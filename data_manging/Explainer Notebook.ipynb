{
 "cells": [
  {
   "cell_type": "markdown",
   "metadata": {
    "collapsed": true
   },
   "source": [
    "# THE BIKE TRIP PROJECT"
   ]
  },
  {
   "cell_type": "markdown",
   "metadata": {},
   "source": [
    "## Overview"
   ]
  },
  {
   "cell_type": "markdown",
   "metadata": {},
   "source": [
    "### What is \"The bike trip project\"?"
   ]
  },
  {
   "cell_type": "markdown",
   "metadata": {},
   "source": [
    "It is a custom designed special course with the scope to depict the bike trip metrics of 2 cyclists, crossing an entire continent on bicycles, for a distance of about 3000km.  \n",
    "\n",
    "> **Starting point** : Tallinn, Estonia  \n",
    "> **Termination** :  Istanbul, Turkey\n",
    "\n",
    "![Scheduled_map](pics/scheduled_map.png)\n",
    "\n",
    "The course has been named \"*Visualization & Analysis of Multichannel - Self-tracking Data*\" and the supervisors of the project were \n",
    "- [Jakob Eg Larsen](http://oaklab.org/) and \n",
    "- [Sune Lehmann](https://sunelehmann.com/)   \n",
    "\n",
    "of [DTU compute](http://www.compute.dtu.dk/english) department.\n"
   ]
  },
  {
   "cell_type": "markdown",
   "metadata": {},
   "source": [
    "### Why? What was the scope of that project?"
   ]
  },
  {
   "cell_type": "markdown",
   "metadata": {},
   "source": [
    "It all started when I had to choose the last course, before starting the thesis for my master’s, in *Digital Media Engineering* at the **Technical University of Denmark**.\n",
    "At that period of time, *Andreas*, my cycling partner for the past 8 years, was trying to convince me to plan our so far longest bicycle trip in Eastern Europe; a consecutive cycling tour of more than 3.000km route in less than 30 days. \n",
    "  \n",
    "Thus, the idea for that project emerged. \n",
    "  \n",
    "Thanks to the open minded and challenging professors of my department this complex project has become a reality."
   ]
  },
  {
   "cell_type": "markdown",
   "metadata": {},
   "source": [
    "### How would you decompose the whole process?"
   ]
  },
  {
   "cell_type": "markdown",
   "metadata": {},
   "source": [
    "| The Trip | The project | The metrics|\n",
    "|----------|-------------|------------|\n",
    "| Starting point on July 5th from Tallin, Estonia and finish in Istanbul, Turkey. The planned daily schedule was to cycle ceaselessly day by day, with fixed breaks of 2 hour lunch stops and sleeping for the night right after sunset. | During the trip, quantified-self tracker sensors have been used to measure various metrics. All this data collection has been analyzed to compare and visually quantify the trip's interesting patterns of behaviour and its impact between the two cyclists. | Self-tracking metrics has been analyzed and visualized on [this](www.thebiketripproject.com) website after the end of the trip. There also has been a live-map of our exact location that was updated once a day. Some of the metrics were: coordinates, speed, elevation, cycling distance, walking distance, active Heartrate, resting Heartrate, sleeping time, calories burnt, calories consumed, water consumption, weather.|\n"
   ]
  },
  {
   "cell_type": "markdown",
   "metadata": {},
   "source": [
    "### What was the goal for the end user's experience?"
   ]
  },
  {
   "cell_type": "markdown",
   "metadata": {},
   "source": [
    "The main goal was to quantify and visualize the trip in a way to answer all those question that everyone has when he/she hears for the first time that in our spare time, we cross countries on bike.  \n",
    "\n",
    "Particularly, there are four types of users that we needed to cover.  \n",
    "\n",
    "> The **curious** type: Questions like \"*how many km do you bike per day*\" or \"*how often do you eat?*\" or even \"*where and how much do you sleep?*\" are the ones that we tried to visualize on the website for this group. \n",
    "\n",
    "> The **pros** type: For the more bike-related audience we tried to depict the most frequently asked questions like \"*what was your elevation gain per day*\" or \"*what was your maximum and average speed*\". \n",
    "\n",
    "> The **geo-travel-freaks** type: Some friends usually ask \"*Did you pass from this city? I have heard that it is fantastic!*\" or \"*Did you bike on highways?*\"\n",
    "\n",
    "> Our **moms and beloved ones**: They usually talk to us once a day on the phone and they ask for coordinates in order to look for us if something goes wrong ;-). This is why we created the **realtime-map** feature where we updated our exact location once every evening before going to bed.  \n"
   ]
  },
  {
   "cell_type": "markdown",
   "metadata": {},
   "source": [
    "## Tracking Equipment"
   ]
  },
  {
   "cell_type": "markdown",
   "metadata": {},
   "source": [
    "### Hardware"
   ]
  },
  {
   "cell_type": "markdown",
   "metadata": {},
   "source": [
    "|Wearables|  \n",
    "|:-------:|\n",
    "\n",
    "Garmin Vivoactive HR+     |  FitBit Charge           \n",
    ":-------------------------:|:-------------------------:\n",
    "![garmin](pics/garmin.jpeg) | ![fitbit](pics/fitbit.jpeg)  "
   ]
  },
  {
   "cell_type": "markdown",
   "metadata": {},
   "source": [
    "|Mobile Devices|  \n",
    "|:------------:|\n",
    "\n",
    "LG Nexus 4                 |Motorola Nexus 6            |Sony Xperia M2 Aqua         \n",
    ":-------------------------:|:--------------------------:|:------------------:\n",
    "![nexus4](pics/nexus4.jpeg)| ![nexus6](pics/nexus6.jpeg)| ![sony](pics/sony.jpeg)"
   ]
  },
  {
   "cell_type": "markdown",
   "metadata": {},
   "source": [
    "|Power Banks and Charging Equipment|  \n",
    "|:--------------------------------:|\n",
    "\n",
    "Anker Powercore+ 26800mAh x2 |Anker Powerport +1 Quick Charge 3.0 x2                 \n",
    ":---------------------------:|:--------------------------:\n",
    "![nexus4](pics/anker.jpeg)   | ![nexus6](pics/ankerpower.jpeg)"
   ]
  },
  {
   "cell_type": "markdown",
   "metadata": {},
   "source": [
    "### Software"
   ]
  },
  {
   "cell_type": "markdown",
   "metadata": {},
   "source": [
    "|Android Native Apps|  \n",
    "|:-----------------:|\n",
    "\n",
    "Moves                      |Garmin Connect              |Fitbit                 |Strava                 |Google Fit                 |LifeSum                 | Custom app                 |\n",
    ":-------------------------:|:--------------------------:|:----------------------:|:----------------------:|:----------------------:|:----------------------:|:----------------------:\n",
    "![moves](pics/moveslogo.png)| ![garmin](pics/garminlogo.png)| ![fitbit](pics/fitbitlogo.png) | ![strava](pics/stravalogo.png)| ![google](pics/googlefitlogo.png)| ![lifesum](pics/lifesumlogo.png)| ![custom](pics/customapplogo.png)"
   ]
  },
  {
   "cell_type": "markdown",
   "metadata": {},
   "source": [
    "## Technology"
   ]
  },
  {
   "cell_type": "markdown",
   "metadata": {},
   "source": [
    "|Scripting Languages and Frameworks used|  \n",
    "|:-----------------:|\n",
    "\n",
    "\n",
    "Python                      |Java              |Android                 |Javascript               |D3.js                  | JQuery       | Leaflet      |HTML                 | CSS                 | Bootstrap.js |\n",
    ":-------------------------:|:--------------------------:|:----------------------:|:----------------------:|:----------------------:|:----------------------:|:----------------------:|:----------------------:|:----------------------:|:----------------------:\n",
    "![python](pics/pythonlogo.png)| ![java](pics/javalogo.png)| ![android](pics/androidlogo.png) | ![js](pics/jslogo.png)| ![D3](pics/D3logo.png)| ![JQuery](pics/JQuerylogo.png)| ![Leaflet](pics/leafletlogo.png)| ![HTML](pics/htmllogo.png) | ![CSS](pics/csslogo.png) | ![bootstrap](pics/bootstraplogo.png)"
   ]
  },
  {
   "cell_type": "markdown",
   "metadata": {},
   "source": [
    "> * **Python** has been used mainly in the *data manging* process and in a part of the *data collection* process.  For the latter, a pyhon script created by \"BLABLABLABLA\" was used and modified. The main functionality of that script was to call Strava API and download own activities in a dataframe format after the end of the trip.\n",
    "\n",
    "> * **Java** is the main language Android uses to build an app.\n",
    "\n",
    "> * The **Android** studio was used to create the **Custom app**.\n",
    "\n",
    "> * **Javascript**, **D3.js** and **JQuery** were the scripting languages/frameworks used to create the interactive visualizations/graphs.\n",
    "\n",
    "> * **Leaflet** is the framework used for the maps used on the website.\n",
    "\n",
    "> * **HTML**, **CSS** and **Bootsrap.js** were the tag languages/frameworks used to build the website."
   ]
  },
  {
   "cell_type": "markdown",
   "metadata": {},
   "source": [
    "## Metrics Analysis"
   ]
  },
  {
   "cell_type": "markdown",
   "metadata": {},
   "source": [
    "Here there should be a diagram with the metrics linked with each of those apps."
   ]
  },
  {
   "cell_type": "markdown",
   "metadata": {},
   "source": [
    "|Active Metrics|  \n",
    "|:-----------------:|\n",
    "\n",
    "\n",
    "Python                      |Java              |Android                 |Javascript               |D3.js                  | JQuery       | Leaflet      |HTML                 | CSS                 | Bootstrap.js |\n",
    ":-------------------------:|:--------------------------:|:----------------------:|:----------------------:|:----------------------:|:----------------------:|:----------------------:|:----------------------:|:----------------------:|:----------------------:\n",
    "![python](pics/pythonlogo.png)| ![java](pics/javalogo.png)| ![android](pics/androidlogo.png) | ![js](pics/jslogo.png)| ![D3](pics/D3logo.png)| ![JQuery](pics/JQuerylogo.png)| ![Leaflet](pics/leafletlogo.png)| ![HTML](pics/htmllogo.png) | ![CSS](pics/csslogo.png) | ![bootstrap](pics/bootstraplogo.png)"
   ]
  },
  {
   "cell_type": "markdown",
   "metadata": {},
   "source": [
    "Coordinates, Avg Daily Speed, Max Daily Speed, Elevation, Daily Elevation Gain, Active Heartrates, Avg Daily Heartrates, Daily Time Biking"
   ]
  },
  {
   "cell_type": "markdown",
   "metadata": {},
   "source": [
    "|General Metrics|  \n",
    "|:-----------------:|\n",
    "\n",
    "\n",
    "Python                      |Java              |Android                 |Javascript               |D3.js                  | JQuery       | Leaflet      |HTML                 | CSS                 | Bootstrap.js |\n",
    ":-------------------------:|:--------------------------:|:----------------------:|:----------------------:|:-------------|---------:|:----------------------:|:----------------------:|:----------------------:|:----------------------:|:----------------------:\n",
    "![python](pics/pythonlogo.png)| ![java](pics/javalogo.png)| ![android](pics/androidlogo.png) | ![js](pics/jslogo.png)| ![D3](pics/D3logo.png)| ![JQuery](pics/JQuerylogo.png)| ![Leaflet](pics/leafletlogo.png)| ![HTML](pics/htmllogo.png) | ![CSS](pics/csslogo.png) | ![bootstrap](pics/bootstraplogo.png)"
   ]
  },
  {
   "cell_type": "markdown",
   "metadata": {},
   "source": [
    "Total distance, Avg Trip Speed, Total Elevation Gain, Total Time biking"
   ]
  },
  {
   "cell_type": "markdown",
   "metadata": {},
   "source": [
    "|Rest Metrics|  \n",
    "|:-----------------:|\n",
    "\n",
    "\n",
    "Python                      |Java              |Android                 |Javascript               |D3.js                  | JQuery       | Leaflet      |HTML                 | CSS                 | Bootstrap.js |\n",
    ":-------------------------:|:--------------------------:|:----------------------:|:----------------------:|:----------------------:|:----------------------:|:----------------------:|:----------------------:|:----------------------:|:----------------------:\n",
    "![python](pics/pythonlogo.png)| ![java](pics/javalogo.png)| ![android](pics/androidlogo.png) | ![js](pics/jslogo.png)| ![D3](pics/D3logo.png)| ![JQuery](pics/JQuerylogo.png)| ![Leaflet](pics/leafletlogo.png)| ![HTML](pics/htmllogo.png) | ![CSS](pics/csslogo.png) | ![bootstrap](pics/bootstraplogo.png)"
   ]
  },
  {
   "cell_type": "markdown",
   "metadata": {},
   "source": [
    "Weather, Calories burnt/consumed, Sleep, Resting heartrates per day"
   ]
  },
  {
   "cell_type": "code",
   "execution_count": null,
   "metadata": {
    "collapsed": true
   },
   "outputs": [],
   "source": [
    "Active Metrics\n",
    "\n",
    "\n",
    "General Metrics\n",
    "\n",
    "\n",
    "Rest Metrics"
   ]
  },
  {
   "cell_type": "markdown",
   "metadata": {},
   "source": [
    "## Custom App (Android only)"
   ]
  },
  {
   "cell_type": "markdown",
   "metadata": {},
   "source": [
    "### Purpose"
   ]
  },
  {
   "cell_type": "markdown",
   "metadata": {},
   "source": [
    "The custom app has been developed to manually upload to a remote server specific sensor data (GPS) collected from a smartphone, by using POST HTTP requests to transfer data. By simply clicking on a button, the user can collect the current GPS location (latitude and longitude). \n",
    "Additionally, the app can collect weather data for the current GPS location by using the OpenWeather API. \n",
    " \n",
    "The data that the app collects is then straight after sent to the server, where a PHP file handles all the server side file manipulation that is needed. \n",
    "Concerning geo-location data, the app sends to the PHP script coordinates, current time-stamp and the number of the day, which are essential information to create a CSV line in the main CSV file used by the interactive real-time map. This makes the update of the map to be updated in real-time transparently without touching anything manually on the server side. \n",
    "Weather data instead is sent again to a different PHP script in JSON format, therefore each single data upload corresponds to a single JSON file on the server side. All JSONs have then been parsed and processed afterwards. \n",
    " \n",
    "The app has a built-in feature for temporary data storage in case the data can't be uploaded (e.g. because of missing i"
   ]
  },
  {
   "cell_type": "markdown",
   "metadata": {},
   "source": [
    "### Functionality"
   ]
  },
  {
   "cell_type": "markdown",
   "metadata": {},
   "source": []
  },
  {
   "cell_type": "markdown",
   "metadata": {},
   "source": [
    "### Technology used"
   ]
  },
  {
   "cell_type": "markdown",
   "metadata": {},
   "source": [
    "## Methodology"
   ]
  },
  {
   "cell_type": "markdown",
   "metadata": {},
   "source": [
    "### Data structure design"
   ]
  },
  {
   "cell_type": "markdown",
   "metadata": {},
   "source": [
    "The first and most important thing needed to be done for this project was to clearly define the metrics that would be visualized at the website. Then, the next step was to clarify the type of each metric and the linkage among the rest of the metrics."
   ]
  },
  {
   "cell_type": "markdown",
   "metadata": {},
   "source": [
    "### Pilot testing"
   ]
  },
  {
   "cell_type": "markdown",
   "metadata": {},
   "source": [
    "After beeing ready with the design, the next important thing was to test the data collection process. There is only one chance to collect the real data. If something goes wrong during the trip concerning data recording, the whole project would be failed. Thus, after building the custom app, and intalling the rest of the apps that were about to be tested, we started collecting data for almost 2 weeks. This step also helped to build the data processing tools/scripts that were about to be used in the real data after the trip would be over. "
   ]
  },
  {
   "cell_type": "markdown",
   "metadata": {},
   "source": [
    "### Data collection"
   ]
  },
  {
   "cell_type": "markdown",
   "metadata": {},
   "source": [
    "The data collection was the most important step of the project. Without data, there wouldn't be any visualization. After having tested the tolerence and the connection issues of each app, we were ready to start the bike trip. During the trip, the daily data collection tasks were the following:"
   ]
  },
  {
   "cell_type": "markdown",
   "metadata": {},
   "source": [
    "* Activate Garmin **Garmin Vivoactive HR+** when the trip starts. Make sure to check the display often in order to stop, sync with the mobile and initiate a new activity with **GPS**  enabled, every 2-4 hours. The capacity of the device is not big enough to handle the amount of data for a whole day. It is important to notice that in order fot the wearable to sync with the app on the mobile, internet connection is needed.  \n",
    "* Capture the weather in short time intervals(almost every 2 hours) using the **custom app**. Again, it is important that there is active internet connection when attempting to capture the weather.\n",
    "* Manually update calories related data in **LifeSum** app by adding the products consumed daily.\n",
    "* Update the realtime map of the website once every night by capturing the coordinate using the **custom app**. If internet connection is on, the app automatically connects to the server and creates a new point on the map. If no connection is available, the app keeps the coordinate, the date, the day number and the status of the trip(start, moving, end) and updates them when connection is on.\n",
    "* Check **Moves** app in order to be sure that it captures movement correctly. Sometimes, it fails to distinguise walking, biking or transportation among each checkpoint and it needs to be manually corrected. It is important to mention that if the correction is not made the same day, it cannot be updated afterwards through the app but it needs to be corrected in the raw data downloaded from the server. So it is better to do the check on time and correct if needed then taking notes to correct it when the trip is over.\n",
    "\n"
   ]
  },
  {
   "cell_type": "markdown",
   "metadata": {},
   "source": [
    "### Data wrangling/manging"
   ]
  },
  {
   "cell_type": "markdown",
   "metadata": {},
   "source": [
    "After coming back from the trip, the difficult and the most time consuming process was about to begin. Firstly download the data collected from the servers uploaded during the trip, secondly check the reliability of the data, correct any mistakes, and finally start processing the data in way to be exported and processed by **D3.js** and **Javascrip** in the most efficient and light form.\n",
    "\n",
    "For data wragling, there have been created various scripts were can be found in the **python/** folder of this repository."
   ]
  },
  {
   "cell_type": "markdown",
   "metadata": {},
   "source": [
    "### Data visualization"
   ]
  },
  {
   "cell_type": "markdown",
   "metadata": {},
   "source": [
    "Finally, after going back and forth to the previous step several times in order to find the best data structure for the visualizations, all graphs have been created seperately for better testing purposes. \n",
    "\n",
    "One can find them at the **app/** forlder of this repository or at my profile at [bl.ocks.org](bl.ocks.org) website built by great **Mike Bostock**, the father of **D3.js** framework."
   ]
  },
  {
   "cell_type": "markdown",
   "metadata": {},
   "source": [
    "## Malfunctions"
   ]
  },
  {
   "cell_type": "markdown",
   "metadata": {},
   "source": []
  },
  {
   "cell_type": "markdown",
   "metadata": {},
   "source": [
    "## Discussion"
   ]
  },
  {
   "cell_type": "markdown",
   "metadata": {},
   "source": []
  },
  {
   "cell_type": "markdown",
   "metadata": {},
   "source": [
    "# REFERENCES"
   ]
  },
  {
   "cell_type": "markdown",
   "metadata": {},
   "source": [
    "* Windbarb javascript plugin : Manuel Bär (https://github.com/JoranBeaufort/Leaflet.windbarb)\n",
    "    > wind barb standard https://commons.wikimedia.org/wiki/Wind_speed"
   ]
  },
  {
   "cell_type": "code",
   "execution_count": null,
   "metadata": {
    "collapsed": true
   },
   "outputs": [],
   "source": []
  }
 ],
 "metadata": {
  "hide_input": false,
  "kernelspec": {
   "display_name": "Python 2",
   "language": "python",
   "name": "python2"
  },
  "language_info": {
   "codemirror_mode": {
    "name": "ipython",
    "version": 2
   },
   "file_extension": ".py",
   "mimetype": "text/x-python",
   "name": "python",
   "nbconvert_exporter": "python",
   "pygments_lexer": "ipython2",
   "version": "2.7.12"
  }
 },
 "nbformat": 4,
 "nbformat_minor": 1
}
