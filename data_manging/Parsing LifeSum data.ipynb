{
 "cells": [
  {
   "cell_type": "markdown",
   "metadata": {},
   "source": [
    "## Load Libraries"
   ]
  },
  {
   "cell_type": "code",
   "execution_count": 4,
   "metadata": {
    "collapsed": true
   },
   "outputs": [],
   "source": [
    "import pandas as pd\n",
    "import numpy as np"
   ]
  },
  {
   "cell_type": "markdown",
   "metadata": {},
   "source": [
    "## Useful functions"
   ]
  },
  {
   "cell_type": "code",
   "execution_count": 5,
   "metadata": {
    "collapsed": true
   },
   "outputs": [],
   "source": [
    "# Transform hours to seconds\n",
    "def hoursToSec(s, factors=(1, 60, 3600)): \n",
    "    \"\"\"[[hours:]minutes:]seconds -> seconds\"\"\"\n",
    "    return int(sum(x*y for x, y in zip(map(float, s.split(':')[::-1]), factors)))"
   ]
  },
  {
   "cell_type": "code",
   "execution_count": 6,
   "metadata": {
    "collapsed": true
   },
   "outputs": [],
   "source": [
    "# Transform seconds to minutes\n",
    "def secToMins(d):\n",
    "    return d/60."
   ]
  },
  {
   "cell_type": "code",
   "execution_count": 7,
   "metadata": {
    "collapsed": true
   },
   "outputs": [],
   "source": [
    "# Transform minutes to calories\n",
    "def minToCalories(d):\n",
    "    constant = 10.83 #assumed calories burnt per minute\n",
    "    return d*constant"
   ]
  },
  {
   "cell_type": "code",
   "execution_count": 8,
   "metadata": {
    "collapsed": true
   },
   "outputs": [],
   "source": [
    "# Add daily burnt to daily default need calories\n",
    "def sumCalories(d):\n",
    "    constant = 2495 #calories needed without activity\n",
    "    return d+constant"
   ]
  },
  {
   "cell_type": "markdown",
   "metadata": {
    "collapsed": true
   },
   "source": [
    "## Convert Biking minutes to calories burnt "
   ]
  },
  {
   "cell_type": "markdown",
   "metadata": {},
   "source": [
    "I have to mention that it was impossible to download the raw data from the **LifeSum** so I manually created the day-by-day csv. Furthermore, the **Google Fit** app that it was supposed to sync the biking hours with the **LifeSum** app, didn't work for all the days, and when it worked, it didn't add the correct biking time distance of the day, so this data was also manually added to the app from the **FitBit** data."
   ]
  },
  {
   "cell_type": "code",
   "execution_count": 9,
   "metadata": {
    "collapsed": true
   },
   "outputs": [],
   "source": [
    "# Load the data into a Dataframe using pandas\n",
    "path = 'python_data/calories.csv'\n",
    "df = pd.read_csv(path)"
   ]
  },
  {
   "cell_type": "code",
   "execution_count": 10,
   "metadata": {
    "collapsed": false
   },
   "outputs": [
    {
     "data": {
      "text/html": [
       "<div>\n",
       "<table border=\"1\" class=\"dataframe\">\n",
       "  <thead>\n",
       "    <tr style=\"text-align: right;\">\n",
       "      <th></th>\n",
       "      <th>date</th>\n",
       "      <th>day_no</th>\n",
       "      <th>hours</th>\n",
       "      <th>consumed</th>\n",
       "      <th>water</th>\n",
       "    </tr>\n",
       "  </thead>\n",
       "  <tbody>\n",
       "    <tr>\n",
       "      <th>0</th>\n",
       "      <td>20170705</td>\n",
       "      <td>1</td>\n",
       "      <td>03:03:23</td>\n",
       "      <td>2559</td>\n",
       "      <td>1.5</td>\n",
       "    </tr>\n",
       "    <tr>\n",
       "      <th>1</th>\n",
       "      <td>20170706</td>\n",
       "      <td>2</td>\n",
       "      <td>06:16:52</td>\n",
       "      <td>2336</td>\n",
       "      <td>2.5</td>\n",
       "    </tr>\n",
       "    <tr>\n",
       "      <th>2</th>\n",
       "      <td>20170707</td>\n",
       "      <td>3</td>\n",
       "      <td>06:43:24</td>\n",
       "      <td>1714</td>\n",
       "      <td>2.0</td>\n",
       "    </tr>\n",
       "    <tr>\n",
       "      <th>3</th>\n",
       "      <td>20170708</td>\n",
       "      <td>4</td>\n",
       "      <td>06:06:41</td>\n",
       "      <td>3458</td>\n",
       "      <td>2.5</td>\n",
       "    </tr>\n",
       "    <tr>\n",
       "      <th>4</th>\n",
       "      <td>20170709</td>\n",
       "      <td>5</td>\n",
       "      <td>06:02:04</td>\n",
       "      <td>3175</td>\n",
       "      <td>2.5</td>\n",
       "    </tr>\n",
       "  </tbody>\n",
       "</table>\n",
       "</div>"
      ],
      "text/plain": [
       "       date  day_no     hours  consumed  water\n",
       "0  20170705       1  03:03:23      2559    1.5\n",
       "1  20170706       2  06:16:52      2336    2.5\n",
       "2  20170707       3  06:43:24      1714    2.0\n",
       "3  20170708       4  06:06:41      3458    2.5\n",
       "4  20170709       5  06:02:04      3175    2.5"
      ]
     },
     "execution_count": 10,
     "metadata": {},
     "output_type": "execute_result"
    }
   ],
   "source": [
    "df[:5]"
   ]
  },
  {
   "cell_type": "code",
   "execution_count": 11,
   "metadata": {
    "collapsed": true
   },
   "outputs": [],
   "source": [
    "# Convert hours to seconds and minutes columns\n",
    "df['secs']=df['hours'].map(lambda x: hoursToSec(x))\n",
    "df['mins']=df['secs'].map(lambda x:secToMins(x))"
   ]
  },
  {
   "cell_type": "code",
   "execution_count": 12,
   "metadata": {
    "collapsed": false
   },
   "outputs": [
    {
     "data": {
      "text/html": [
       "<div>\n",
       "<table border=\"1\" class=\"dataframe\">\n",
       "  <thead>\n",
       "    <tr style=\"text-align: right;\">\n",
       "      <th></th>\n",
       "      <th>date</th>\n",
       "      <th>day_no</th>\n",
       "      <th>hours</th>\n",
       "      <th>consumed</th>\n",
       "      <th>water</th>\n",
       "      <th>secs</th>\n",
       "      <th>mins</th>\n",
       "    </tr>\n",
       "  </thead>\n",
       "  <tbody>\n",
       "    <tr>\n",
       "      <th>0</th>\n",
       "      <td>20170705</td>\n",
       "      <td>1</td>\n",
       "      <td>03:03:23</td>\n",
       "      <td>2559</td>\n",
       "      <td>1.5</td>\n",
       "      <td>11003</td>\n",
       "      <td>183.383333</td>\n",
       "    </tr>\n",
       "    <tr>\n",
       "      <th>1</th>\n",
       "      <td>20170706</td>\n",
       "      <td>2</td>\n",
       "      <td>06:16:52</td>\n",
       "      <td>2336</td>\n",
       "      <td>2.5</td>\n",
       "      <td>22612</td>\n",
       "      <td>376.866667</td>\n",
       "    </tr>\n",
       "    <tr>\n",
       "      <th>2</th>\n",
       "      <td>20170707</td>\n",
       "      <td>3</td>\n",
       "      <td>06:43:24</td>\n",
       "      <td>1714</td>\n",
       "      <td>2.0</td>\n",
       "      <td>24204</td>\n",
       "      <td>403.400000</td>\n",
       "    </tr>\n",
       "    <tr>\n",
       "      <th>3</th>\n",
       "      <td>20170708</td>\n",
       "      <td>4</td>\n",
       "      <td>06:06:41</td>\n",
       "      <td>3458</td>\n",
       "      <td>2.5</td>\n",
       "      <td>22001</td>\n",
       "      <td>366.683333</td>\n",
       "    </tr>\n",
       "    <tr>\n",
       "      <th>4</th>\n",
       "      <td>20170709</td>\n",
       "      <td>5</td>\n",
       "      <td>06:02:04</td>\n",
       "      <td>3175</td>\n",
       "      <td>2.5</td>\n",
       "      <td>21724</td>\n",
       "      <td>362.066667</td>\n",
       "    </tr>\n",
       "  </tbody>\n",
       "</table>\n",
       "</div>"
      ],
      "text/plain": [
       "       date  day_no     hours  consumed  water   secs        mins\n",
       "0  20170705       1  03:03:23      2559    1.5  11003  183.383333\n",
       "1  20170706       2  06:16:52      2336    2.5  22612  376.866667\n",
       "2  20170707       3  06:43:24      1714    2.0  24204  403.400000\n",
       "3  20170708       4  06:06:41      3458    2.5  22001  366.683333\n",
       "4  20170709       5  06:02:04      3175    2.5  21724  362.066667"
      ]
     },
     "execution_count": 12,
     "metadata": {},
     "output_type": "execute_result"
    }
   ],
   "source": [
    "df[:5]"
   ]
  },
  {
   "cell_type": "markdown",
   "metadata": {},
   "source": [
    "On average, a 180 lb. cyclist (81kg as I am) riding at a moderate effort level will burn approximately **650 calories per hour** (10.83 calories per minute). This number is a rough estimate; however, the precise number depends on a number of factors, not all of which are easy to quantify. So we will calculate the calories burnt based on this assumption. Check [this](http://www.ilovebicycling.com/how-many-calories-do-you-burn-when-cycling/) link for further details."
   ]
  },
  {
   "cell_type": "code",
   "execution_count": 13,
   "metadata": {
    "collapsed": false
   },
   "outputs": [],
   "source": [
    "# Convert mins to calories burnt\n",
    "df['burnt']=df['mins'].map(lambda x: minToCalories(x))"
   ]
  },
  {
   "cell_type": "code",
   "execution_count": 14,
   "metadata": {
    "collapsed": false,
    "scrolled": true
   },
   "outputs": [
    {
     "data": {
      "text/html": [
       "<div>\n",
       "<table border=\"1\" class=\"dataframe\">\n",
       "  <thead>\n",
       "    <tr style=\"text-align: right;\">\n",
       "      <th></th>\n",
       "      <th>date</th>\n",
       "      <th>day_no</th>\n",
       "      <th>hours</th>\n",
       "      <th>consumed</th>\n",
       "      <th>water</th>\n",
       "      <th>secs</th>\n",
       "      <th>mins</th>\n",
       "      <th>burnt</th>\n",
       "    </tr>\n",
       "  </thead>\n",
       "  <tbody>\n",
       "    <tr>\n",
       "      <th>0</th>\n",
       "      <td>20170705</td>\n",
       "      <td>1</td>\n",
       "      <td>03:03:23</td>\n",
       "      <td>2559</td>\n",
       "      <td>1.5</td>\n",
       "      <td>11003</td>\n",
       "      <td>183.383333</td>\n",
       "      <td>1986.0415</td>\n",
       "    </tr>\n",
       "    <tr>\n",
       "      <th>1</th>\n",
       "      <td>20170706</td>\n",
       "      <td>2</td>\n",
       "      <td>06:16:52</td>\n",
       "      <td>2336</td>\n",
       "      <td>2.5</td>\n",
       "      <td>22612</td>\n",
       "      <td>376.866667</td>\n",
       "      <td>4081.4660</td>\n",
       "    </tr>\n",
       "    <tr>\n",
       "      <th>2</th>\n",
       "      <td>20170707</td>\n",
       "      <td>3</td>\n",
       "      <td>06:43:24</td>\n",
       "      <td>1714</td>\n",
       "      <td>2.0</td>\n",
       "      <td>24204</td>\n",
       "      <td>403.400000</td>\n",
       "      <td>4368.8220</td>\n",
       "    </tr>\n",
       "    <tr>\n",
       "      <th>3</th>\n",
       "      <td>20170708</td>\n",
       "      <td>4</td>\n",
       "      <td>06:06:41</td>\n",
       "      <td>3458</td>\n",
       "      <td>2.5</td>\n",
       "      <td>22001</td>\n",
       "      <td>366.683333</td>\n",
       "      <td>3971.1805</td>\n",
       "    </tr>\n",
       "    <tr>\n",
       "      <th>4</th>\n",
       "      <td>20170709</td>\n",
       "      <td>5</td>\n",
       "      <td>06:02:04</td>\n",
       "      <td>3175</td>\n",
       "      <td>2.5</td>\n",
       "      <td>21724</td>\n",
       "      <td>362.066667</td>\n",
       "      <td>3921.1820</td>\n",
       "    </tr>\n",
       "  </tbody>\n",
       "</table>\n",
       "</div>"
      ],
      "text/plain": [
       "       date  day_no     hours  consumed  water   secs        mins      burnt\n",
       "0  20170705       1  03:03:23      2559    1.5  11003  183.383333  1986.0415\n",
       "1  20170706       2  06:16:52      2336    2.5  22612  376.866667  4081.4660\n",
       "2  20170707       3  06:43:24      1714    2.0  24204  403.400000  4368.8220\n",
       "3  20170708       4  06:06:41      3458    2.5  22001  366.683333  3971.1805\n",
       "4  20170709       5  06:02:04      3175    2.5  21724  362.066667  3921.1820"
      ]
     },
     "execution_count": 14,
     "metadata": {},
     "output_type": "execute_result"
    }
   ],
   "source": [
    "df[:5]"
   ]
  },
  {
   "cell_type": "markdown",
   "metadata": {},
   "source": [
    "According to **LifeSum** and based on my profile metrics, I need 2495 Kcal per day without any activity. So if we sum up this constant to the burnt calories column, we come up to the daily need. "
   ]
  },
  {
   "cell_type": "code",
   "execution_count": 15,
   "metadata": {
    "collapsed": true
   },
   "outputs": [],
   "source": [
    "# Create the need column\n",
    "df['need']=df['burnt'].map(lambda x: sumCalories(x))"
   ]
  },
  {
   "cell_type": "code",
   "execution_count": 16,
   "metadata": {
    "collapsed": false
   },
   "outputs": [
    {
     "data": {
      "text/html": [
       "<div>\n",
       "<table border=\"1\" class=\"dataframe\">\n",
       "  <thead>\n",
       "    <tr style=\"text-align: right;\">\n",
       "      <th></th>\n",
       "      <th>date</th>\n",
       "      <th>day_no</th>\n",
       "      <th>hours</th>\n",
       "      <th>consumed</th>\n",
       "      <th>water</th>\n",
       "      <th>secs</th>\n",
       "      <th>mins</th>\n",
       "      <th>burnt</th>\n",
       "      <th>need</th>\n",
       "    </tr>\n",
       "  </thead>\n",
       "  <tbody>\n",
       "    <tr>\n",
       "      <th>0</th>\n",
       "      <td>20170705</td>\n",
       "      <td>1</td>\n",
       "      <td>03:03:23</td>\n",
       "      <td>2559</td>\n",
       "      <td>1.5</td>\n",
       "      <td>11003</td>\n",
       "      <td>183.383333</td>\n",
       "      <td>1986.0415</td>\n",
       "      <td>4481.0415</td>\n",
       "    </tr>\n",
       "    <tr>\n",
       "      <th>1</th>\n",
       "      <td>20170706</td>\n",
       "      <td>2</td>\n",
       "      <td>06:16:52</td>\n",
       "      <td>2336</td>\n",
       "      <td>2.5</td>\n",
       "      <td>22612</td>\n",
       "      <td>376.866667</td>\n",
       "      <td>4081.4660</td>\n",
       "      <td>6576.4660</td>\n",
       "    </tr>\n",
       "    <tr>\n",
       "      <th>2</th>\n",
       "      <td>20170707</td>\n",
       "      <td>3</td>\n",
       "      <td>06:43:24</td>\n",
       "      <td>1714</td>\n",
       "      <td>2.0</td>\n",
       "      <td>24204</td>\n",
       "      <td>403.400000</td>\n",
       "      <td>4368.8220</td>\n",
       "      <td>6863.8220</td>\n",
       "    </tr>\n",
       "    <tr>\n",
       "      <th>3</th>\n",
       "      <td>20170708</td>\n",
       "      <td>4</td>\n",
       "      <td>06:06:41</td>\n",
       "      <td>3458</td>\n",
       "      <td>2.5</td>\n",
       "      <td>22001</td>\n",
       "      <td>366.683333</td>\n",
       "      <td>3971.1805</td>\n",
       "      <td>6466.1805</td>\n",
       "    </tr>\n",
       "    <tr>\n",
       "      <th>4</th>\n",
       "      <td>20170709</td>\n",
       "      <td>5</td>\n",
       "      <td>06:02:04</td>\n",
       "      <td>3175</td>\n",
       "      <td>2.5</td>\n",
       "      <td>21724</td>\n",
       "      <td>362.066667</td>\n",
       "      <td>3921.1820</td>\n",
       "      <td>6416.1820</td>\n",
       "    </tr>\n",
       "  </tbody>\n",
       "</table>\n",
       "</div>"
      ],
      "text/plain": [
       "       date  day_no     hours  consumed  water   secs        mins      burnt  \\\n",
       "0  20170705       1  03:03:23      2559    1.5  11003  183.383333  1986.0415   \n",
       "1  20170706       2  06:16:52      2336    2.5  22612  376.866667  4081.4660   \n",
       "2  20170707       3  06:43:24      1714    2.0  24204  403.400000  4368.8220   \n",
       "3  20170708       4  06:06:41      3458    2.5  22001  366.683333  3971.1805   \n",
       "4  20170709       5  06:02:04      3175    2.5  21724  362.066667  3921.1820   \n",
       "\n",
       "        need  \n",
       "0  4481.0415  \n",
       "1  6576.4660  \n",
       "2  6863.8220  \n",
       "3  6466.1805  \n",
       "4  6416.1820  "
      ]
     },
     "execution_count": 16,
     "metadata": {},
     "output_type": "execute_result"
    }
   ],
   "source": [
    "df[:5]"
   ]
  },
  {
   "cell_type": "code",
   "execution_count": 17,
   "metadata": {
    "collapsed": true
   },
   "outputs": [],
   "source": [
    "# Drop not needed time columns\n",
    "df.drop(df.columns[[2, 5, 6]], axis=1, inplace=True)"
   ]
  },
  {
   "cell_type": "code",
   "execution_count": 18,
   "metadata": {
    "collapsed": false
   },
   "outputs": [
    {
     "data": {
      "text/html": [
       "<div>\n",
       "<table border=\"1\" class=\"dataframe\">\n",
       "  <thead>\n",
       "    <tr style=\"text-align: right;\">\n",
       "      <th></th>\n",
       "      <th>date</th>\n",
       "      <th>day_no</th>\n",
       "      <th>consumed</th>\n",
       "      <th>water</th>\n",
       "      <th>burnt</th>\n",
       "      <th>need</th>\n",
       "    </tr>\n",
       "  </thead>\n",
       "  <tbody>\n",
       "    <tr>\n",
       "      <th>0</th>\n",
       "      <td>20170705</td>\n",
       "      <td>1</td>\n",
       "      <td>2559</td>\n",
       "      <td>1.5</td>\n",
       "      <td>1986.0415</td>\n",
       "      <td>4481.0415</td>\n",
       "    </tr>\n",
       "    <tr>\n",
       "      <th>1</th>\n",
       "      <td>20170706</td>\n",
       "      <td>2</td>\n",
       "      <td>2336</td>\n",
       "      <td>2.5</td>\n",
       "      <td>4081.4660</td>\n",
       "      <td>6576.4660</td>\n",
       "    </tr>\n",
       "    <tr>\n",
       "      <th>2</th>\n",
       "      <td>20170707</td>\n",
       "      <td>3</td>\n",
       "      <td>1714</td>\n",
       "      <td>2.0</td>\n",
       "      <td>4368.8220</td>\n",
       "      <td>6863.8220</td>\n",
       "    </tr>\n",
       "    <tr>\n",
       "      <th>3</th>\n",
       "      <td>20170708</td>\n",
       "      <td>4</td>\n",
       "      <td>3458</td>\n",
       "      <td>2.5</td>\n",
       "      <td>3971.1805</td>\n",
       "      <td>6466.1805</td>\n",
       "    </tr>\n",
       "    <tr>\n",
       "      <th>4</th>\n",
       "      <td>20170709</td>\n",
       "      <td>5</td>\n",
       "      <td>3175</td>\n",
       "      <td>2.5</td>\n",
       "      <td>3921.1820</td>\n",
       "      <td>6416.1820</td>\n",
       "    </tr>\n",
       "  </tbody>\n",
       "</table>\n",
       "</div>"
      ],
      "text/plain": [
       "       date  day_no  consumed  water      burnt       need\n",
       "0  20170705       1      2559    1.5  1986.0415  4481.0415\n",
       "1  20170706       2      2336    2.5  4081.4660  6576.4660\n",
       "2  20170707       3      1714    2.0  4368.8220  6863.8220\n",
       "3  20170708       4      3458    2.5  3971.1805  6466.1805\n",
       "4  20170709       5      3175    2.5  3921.1820  6416.1820"
      ]
     },
     "execution_count": 18,
     "metadata": {},
     "output_type": "execute_result"
    }
   ],
   "source": [
    "df[:5]"
   ]
  },
  {
   "cell_type": "markdown",
   "metadata": {},
   "source": [
    "Now we can source the calories_from_moves dataframe in order to have an extra column to cross check and keep the one that better describes what happened and which makes more sense."
   ]
  },
  {
   "cell_type": "code",
   "execution_count": 19,
   "metadata": {
    "collapsed": true
   },
   "outputs": [],
   "source": [
    "# Read new csv\n",
    "df_calories_from_moves = pd.read_csv('python_data/calories_from_moves.csv')"
   ]
  },
  {
   "cell_type": "code",
   "execution_count": 21,
   "metadata": {
    "collapsed": false
   },
   "outputs": [],
   "source": [
    "# Merge with df\n",
    "df = pd.merge(df, df_calories_from_moves, on='day_no')"
   ]
  },
  {
   "cell_type": "code",
   "execution_count": 25,
   "metadata": {
    "collapsed": false
   },
   "outputs": [
    {
     "data": {
      "text/html": [
       "<div>\n",
       "<table border=\"1\" class=\"dataframe\">\n",
       "  <thead>\n",
       "    <tr style=\"text-align: right;\">\n",
       "      <th></th>\n",
       "      <th>date</th>\n",
       "      <th>day_no</th>\n",
       "      <th>consumed</th>\n",
       "      <th>water</th>\n",
       "      <th>burnt</th>\n",
       "      <th>need</th>\n",
       "      <th>ttl_cal_burnt</th>\n",
       "    </tr>\n",
       "  </thead>\n",
       "  <tbody>\n",
       "    <tr>\n",
       "      <th>0</th>\n",
       "      <td>20170705</td>\n",
       "      <td>1</td>\n",
       "      <td>2559</td>\n",
       "      <td>1.5</td>\n",
       "      <td>1986.0415</td>\n",
       "      <td>4481.0415</td>\n",
       "      <td>2105</td>\n",
       "    </tr>\n",
       "    <tr>\n",
       "      <th>1</th>\n",
       "      <td>20170706</td>\n",
       "      <td>2</td>\n",
       "      <td>2336</td>\n",
       "      <td>2.5</td>\n",
       "      <td>4081.4660</td>\n",
       "      <td>6576.4660</td>\n",
       "      <td>3471</td>\n",
       "    </tr>\n",
       "    <tr>\n",
       "      <th>2</th>\n",
       "      <td>20170707</td>\n",
       "      <td>3</td>\n",
       "      <td>1714</td>\n",
       "      <td>2.0</td>\n",
       "      <td>4368.8220</td>\n",
       "      <td>6863.8220</td>\n",
       "      <td>3830</td>\n",
       "    </tr>\n",
       "    <tr>\n",
       "      <th>3</th>\n",
       "      <td>20170708</td>\n",
       "      <td>4</td>\n",
       "      <td>3458</td>\n",
       "      <td>2.5</td>\n",
       "      <td>3971.1805</td>\n",
       "      <td>6466.1805</td>\n",
       "      <td>3760</td>\n",
       "    </tr>\n",
       "    <tr>\n",
       "      <th>4</th>\n",
       "      <td>20170709</td>\n",
       "      <td>5</td>\n",
       "      <td>3175</td>\n",
       "      <td>2.5</td>\n",
       "      <td>3921.1820</td>\n",
       "      <td>6416.1820</td>\n",
       "      <td>4273</td>\n",
       "    </tr>\n",
       "  </tbody>\n",
       "</table>\n",
       "</div>"
      ],
      "text/plain": [
       "       date  day_no  consumed  water      burnt       need  ttl_cal_burnt\n",
       "0  20170705       1      2559    1.5  1986.0415  4481.0415           2105\n",
       "1  20170706       2      2336    2.5  4081.4660  6576.4660           3471\n",
       "2  20170707       3      1714    2.0  4368.8220  6863.8220           3830\n",
       "3  20170708       4      3458    2.5  3971.1805  6466.1805           3760\n",
       "4  20170709       5      3175    2.5  3921.1820  6416.1820           4273"
      ]
     },
     "execution_count": 25,
     "metadata": {},
     "output_type": "execute_result"
    }
   ],
   "source": [
    "# Drop useless column\n",
    "df.drop(df.columns[[6]], axis=1, inplace=True)\n",
    "df[:5]"
   ]
  },
  {
   "cell_type": "markdown",
   "metadata": {},
   "source": [
    "## Create a csv export for D3 "
   ]
  },
  {
   "cell_type": "code",
   "execution_count": 26,
   "metadata": {
    "collapsed": true
   },
   "outputs": [],
   "source": [
    "# Save it to a csv for D3\n",
    "df.to_csv('../d3_visualizations/calories/calories.csv', index=False)"
   ]
  }
 ],
 "metadata": {
  "hide_input": false,
  "kernelspec": {
   "display_name": "Python 2",
   "language": "python",
   "name": "python2"
  },
  "language_info": {
   "codemirror_mode": {
    "name": "ipython",
    "version": 2
   },
   "file_extension": ".py",
   "mimetype": "text/x-python",
   "name": "python",
   "nbconvert_exporter": "python",
   "pygments_lexer": "ipython2",
   "version": "2.7.12"
  }
 },
 "nbformat": 4,
 "nbformat_minor": 1
}
