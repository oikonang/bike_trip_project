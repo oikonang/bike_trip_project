{
 "cells": [
  {
   "cell_type": "markdown",
   "metadata": {},
   "source": [
    "## Load Libraries"
   ]
  },
  {
   "cell_type": "code",
   "execution_count": 2,
   "metadata": {
    "collapsed": true
   },
   "outputs": [],
   "source": [
    "import pandas as pd\n",
    "import numpy as np\n",
    "from pandas import Timestamp\n",
    "import os\n",
    "from datetime import datetime, timedelta"
   ]
  },
  {
   "cell_type": "markdown",
   "metadata": {},
   "source": [
    "The main scope of collecting **Moves** data was to cross-check the results from the **Garmin** and have a backup in any case there was a fault data collection from other sources. For example, we may use Calories burnt from **Moves** app instead of **LifeSum** which was sourcing the activities from **Google Fit** and the data was really unreliable at the end."
   ]
  },
  {
   "cell_type": "markdown",
   "metadata": {},
   "source": [
    "### Keep only the days of the trip inside the directory"
   ]
  },
  {
   "cell_type": "code",
   "execution_count": 3,
   "metadata": {
    "collapsed": false
   },
   "outputs": [],
   "source": [
    "# Read the directories with the data and save file_names in two list\n",
    "path_to_places = 'python_data/moves_angelos/moves_export/csv/daily/places/'\n",
    "path_to_summary = 'python_data/moves_angelos/moves_export/csv/daily/summary/'\n",
    "\n",
    "csv_files_places = [single_csv for single_csv in os.listdir(path_to_places) if single_csv.endswith('.csv')]\n",
    "csv_files_summary = [single_csv for single_csv in os.listdir(path_to_summary) if single_csv.endswith('.csv')]"
   ]
  },
  {
   "cell_type": "code",
   "execution_count": 4,
   "metadata": {
    "collapsed": false,
    "scrolled": true
   },
   "outputs": [
    {
     "name": "stdout",
     "output_type": "stream",
     "text": [
      "['places_20170705.csv', 'places_20170706.csv', 'places_20170707.csv', 'places_20170708.csv', 'places_20170709.csv']\n",
      "['summary_20170705.csv', 'summary_20170706.csv', 'summary_20170707.csv', 'summary_20170708.csv', 'summary_20170709.csv']\n"
     ]
    }
   ],
   "source": [
    "# Check if filenames are parsed correctly\n",
    "print csv_files_places[:5]\n",
    "print csv_files_summary[:5]"
   ]
  },
  {
   "cell_type": "markdown",
   "metadata": {},
   "source": [
    "## Usefull Functions"
   ]
  },
  {
   "cell_type": "code",
   "execution_count": 5,
   "metadata": {
    "collapsed": true
   },
   "outputs": [],
   "source": [
    "# Adds a number to index\n",
    "def iterNo(d):\n",
    "    return d + 1"
   ]
  },
  {
   "cell_type": "code",
   "execution_count": 6,
   "metadata": {
    "collapsed": true
   },
   "outputs": [],
   "source": [
    "# Transforms seconds to hours\n",
    "def secToHours(d):\n",
    "    # Create the rule\n",
    "    seconds = d\n",
    "    minutes, seconds = divmod(seconds, 60)\n",
    "    hours, minutes = divmod(minutes, 60)\n",
    "    \n",
    "    #Convert all to string\n",
    "    seconds = str(seconds)\n",
    "    minutes = str(minutes)\n",
    "    hours = str(hours)\n",
    "    \n",
    "    #Add 0(zeros) for single digit numbers\n",
    "    if len(seconds)==1:\n",
    "        seconds = '0'+seconds\n",
    "    if len(minutes)==1:\n",
    "        minutes = '0'+minutes\n",
    "    if len(hours)==1:\n",
    "        hours = '0'+hours\n",
    "    return hours+':'+minutes+':'+seconds"
   ]
  },
  {
   "cell_type": "code",
   "execution_count": 7,
   "metadata": {
    "collapsed": true
   },
   "outputs": [],
   "source": [
    "# Create function that calculates km and seconds to km/h average\n",
    "def avgSpeedConverter(f,d):\n",
    "    # Define variables\n",
    "    km = f\n",
    "    seconds = d\n",
    "    \n",
    "    # Convert km to meters\n",
    "    meters = km*1000\n",
    "    \n",
    "    # Calculate speed\n",
    "    avg_speed = (meters/seconds) * 3.6\n",
    "    return avg_speed"
   ]
  },
  {
   "cell_type": "code",
   "execution_count": 8,
   "metadata": {
    "collapsed": true
   },
   "outputs": [],
   "source": [
    "# Fix year to Date column\n",
    "def yearFixer(s):\n",
    "    main_part = s[:-2]\n",
    "    year_before = s.split('/')[2]\n",
    "    year_after = str(20) + year_before\n",
    "    return main_part+year_after"
   ]
  },
  {
   "cell_type": "code",
   "execution_count": 9,
   "metadata": {
    "collapsed": true
   },
   "outputs": [],
   "source": [
    "# Create a good format for the Date column\n",
    "def dateConverter(s):\n",
    "    # Set date formats\n",
    "    time_format = \"%d/%m/%Y\"\n",
    "\n",
    "    # Convert from str to datetime\n",
    "    converted = datetime.strptime(s,time_format)\n",
    "    \n",
    "    return converted"
   ]
  },
  {
   "cell_type": "markdown",
   "metadata": {},
   "source": [
    "## Create a single useful dataframe for each segment"
   ]
  },
  {
   "cell_type": "markdown",
   "metadata": {},
   "source": [
    "### Places"
   ]
  },
  {
   "cell_type": "markdown",
   "metadata": {},
   "source": [
    "Places are the checkpoint coordinates that **Moves** app uses when the mobile stops moving. So each row of the below dataframe is a place that we stopped moving. We will not use this data for any reason at this project but I will create a nice format in order to be able to parsed and used for any visualization in the future."
   ]
  },
  {
   "cell_type": "code",
   "execution_count": 9,
   "metadata": {
    "collapsed": true
   },
   "outputs": [],
   "source": [
    "# Places df\n",
    "df_places = pd.DataFrame()\n",
    "for file_name in csv_files_places:\n",
    "    df_tmp = pd.read_csv(path_to_places+file_name)\n",
    "    df_places = pd.concat([df_places, df_tmp])\n",
    "\n",
    "# Drop last two columns\n",
    "df_places = df_places.drop(['Category', 'Link'],axis = 1).reset_index()   \n",
    "    \n",
    "# Change str and end time to datetime type\n",
    "df_places['Start'] = pd.to_datetime(df_places['Start']) \n",
    "df_places['End'] = pd.to_datetime(df_places['End'])\n",
    "df_places['Date'] = df_places['Date'].apply(lambda x: yearFixer(x))\n",
    "df_places['Date'] = df_places['Date'].apply(lambda x: dateConverter(x))\n",
    "\n",
    "# Rename index column to iter_no like STRAVA\n",
    "df_places.rename(columns={'index': 'iter_no'}, inplace=True)\n",
    "df_places['iter_no'] = df_places['iter_no'].apply(lambda x: iterNo(x))\n",
    "\n",
    "# Create day_no like STRAVA\n",
    "days = list(set(df_places['Date']))\n",
    "days.sort()\n",
    "day_no = list()\n",
    "for index,day in enumerate(days):\n",
    "    for dfday in df_places['Date']:\n",
    "        if dfday == day:\n",
    "            day_no.append(index+1)\n",
    "\n",
    "df_places['day_no'] = pd.Series(day_no).values"
   ]
  },
  {
   "cell_type": "code",
   "execution_count": 10,
   "metadata": {
    "collapsed": false
   },
   "outputs": [
    {
     "data": {
      "text/html": [
       "<div>\n",
       "<style>\n",
       "    .dataframe thead tr:only-child th {\n",
       "        text-align: right;\n",
       "    }\n",
       "\n",
       "    .dataframe thead th {\n",
       "        text-align: left;\n",
       "    }\n",
       "\n",
       "    .dataframe tbody tr th {\n",
       "        vertical-align: top;\n",
       "    }\n",
       "</style>\n",
       "<table border=\"1\" class=\"dataframe\">\n",
       "  <thead>\n",
       "    <tr style=\"text-align: right;\">\n",
       "      <th></th>\n",
       "      <th>iter_no</th>\n",
       "      <th>Date</th>\n",
       "      <th>Name</th>\n",
       "      <th>Start</th>\n",
       "      <th>End</th>\n",
       "      <th>Duration</th>\n",
       "      <th>Latitude</th>\n",
       "      <th>Longitude</th>\n",
       "      <th>day_no</th>\n",
       "    </tr>\n",
       "  </thead>\n",
       "  <tbody>\n",
       "    <tr>\n",
       "      <th>0</th>\n",
       "      <td>1</td>\n",
       "      <td>2017-07-05</td>\n",
       "      <td>Place in Tallinn</td>\n",
       "      <td>2017-07-04 22:28:01</td>\n",
       "      <td>2017-07-05 07:33:40</td>\n",
       "      <td>32739</td>\n",
       "      <td>59.417177</td>\n",
       "      <td>24.799761</td>\n",
       "      <td>1</td>\n",
       "    </tr>\n",
       "    <tr>\n",
       "      <th>1</th>\n",
       "      <td>2</td>\n",
       "      <td>2017-07-05</td>\n",
       "      <td>Place in Tallinn</td>\n",
       "      <td>2017-07-05 08:07:19</td>\n",
       "      <td>2017-07-05 08:11:19</td>\n",
       "      <td>240</td>\n",
       "      <td>59.436725</td>\n",
       "      <td>24.744576</td>\n",
       "      <td>1</td>\n",
       "    </tr>\n",
       "    <tr>\n",
       "      <th>2</th>\n",
       "      <td>3</td>\n",
       "      <td>2017-07-05</td>\n",
       "      <td>Place in Tallinn</td>\n",
       "      <td>2017-07-05 08:26:17</td>\n",
       "      <td>2017-07-05 08:56:32</td>\n",
       "      <td>1815</td>\n",
       "      <td>59.443721</td>\n",
       "      <td>24.743251</td>\n",
       "      <td>1</td>\n",
       "    </tr>\n",
       "    <tr>\n",
       "      <th>3</th>\n",
       "      <td>4</td>\n",
       "      <td>2017-07-05</td>\n",
       "      <td>Place in Tallinn</td>\n",
       "      <td>2017-07-05 09:03:19</td>\n",
       "      <td>2017-07-05 09:10:57</td>\n",
       "      <td>458</td>\n",
       "      <td>59.436050</td>\n",
       "      <td>24.720483</td>\n",
       "      <td>1</td>\n",
       "    </tr>\n",
       "    <tr>\n",
       "      <th>4</th>\n",
       "      <td>5</td>\n",
       "      <td>2017-07-05</td>\n",
       "      <td>Place in Tallinn</td>\n",
       "      <td>2017-07-05 09:34:51</td>\n",
       "      <td>2017-07-05 09:54:57</td>\n",
       "      <td>1206</td>\n",
       "      <td>59.425996</td>\n",
       "      <td>24.651400</td>\n",
       "      <td>1</td>\n",
       "    </tr>\n",
       "    <tr>\n",
       "      <th>5</th>\n",
       "      <td>6</td>\n",
       "      <td>2017-07-05</td>\n",
       "      <td>Place in Tallinn</td>\n",
       "      <td>2017-07-05 10:25:29</td>\n",
       "      <td>2017-07-05 12:21:10</td>\n",
       "      <td>6941</td>\n",
       "      <td>59.442742</td>\n",
       "      <td>24.624479</td>\n",
       "      <td>1</td>\n",
       "    </tr>\n",
       "    <tr>\n",
       "      <th>6</th>\n",
       "      <td>7</td>\n",
       "      <td>2017-07-05</td>\n",
       "      <td>Place in Vääna-Jõesuu</td>\n",
       "      <td>2017-07-05 15:17:22</td>\n",
       "      <td>2017-07-05 16:12:35</td>\n",
       "      <td>3313</td>\n",
       "      <td>59.433688</td>\n",
       "      <td>24.367671</td>\n",
       "      <td>1</td>\n",
       "    </tr>\n",
       "    <tr>\n",
       "      <th>7</th>\n",
       "      <td>8</td>\n",
       "      <td>2017-07-05</td>\n",
       "      <td>Place in Paldiski</td>\n",
       "      <td>2017-07-05 17:54:05</td>\n",
       "      <td>2017-07-05 22:00:00</td>\n",
       "      <td>14755</td>\n",
       "      <td>59.345679</td>\n",
       "      <td>24.184467</td>\n",
       "      <td>1</td>\n",
       "    </tr>\n",
       "    <tr>\n",
       "      <th>8</th>\n",
       "      <td>1</td>\n",
       "      <td>2017-07-06</td>\n",
       "      <td>Place in Paldiski</td>\n",
       "      <td>2017-07-05 22:00:00</td>\n",
       "      <td>2017-07-06 11:24:00</td>\n",
       "      <td>48240</td>\n",
       "      <td>59.345679</td>\n",
       "      <td>24.184467</td>\n",
       "      <td>2</td>\n",
       "    </tr>\n",
       "    <tr>\n",
       "      <th>9</th>\n",
       "      <td>2</td>\n",
       "      <td>2017-07-06</td>\n",
       "      <td>Place in Paldiski</td>\n",
       "      <td>2017-07-06 11:41:44</td>\n",
       "      <td>2017-07-06 11:58:12</td>\n",
       "      <td>988</td>\n",
       "      <td>59.339574</td>\n",
       "      <td>24.105025</td>\n",
       "      <td>2</td>\n",
       "    </tr>\n",
       "  </tbody>\n",
       "</table>\n",
       "</div>"
      ],
      "text/plain": [
       "   iter_no       Date                   Name               Start  \\\n",
       "0        1 2017-07-05       Place in Tallinn 2017-07-04 22:28:01   \n",
       "1        2 2017-07-05       Place in Tallinn 2017-07-05 08:07:19   \n",
       "2        3 2017-07-05       Place in Tallinn 2017-07-05 08:26:17   \n",
       "3        4 2017-07-05       Place in Tallinn 2017-07-05 09:03:19   \n",
       "4        5 2017-07-05       Place in Tallinn 2017-07-05 09:34:51   \n",
       "5        6 2017-07-05       Place in Tallinn 2017-07-05 10:25:29   \n",
       "6        7 2017-07-05  Place in Vääna-Jõesuu 2017-07-05 15:17:22   \n",
       "7        8 2017-07-05      Place in Paldiski 2017-07-05 17:54:05   \n",
       "8        1 2017-07-06      Place in Paldiski 2017-07-05 22:00:00   \n",
       "9        2 2017-07-06      Place in Paldiski 2017-07-06 11:41:44   \n",
       "\n",
       "                  End  Duration   Latitude  Longitude  day_no  \n",
       "0 2017-07-05 07:33:40     32739  59.417177  24.799761       1  \n",
       "1 2017-07-05 08:11:19       240  59.436725  24.744576       1  \n",
       "2 2017-07-05 08:56:32      1815  59.443721  24.743251       1  \n",
       "3 2017-07-05 09:10:57       458  59.436050  24.720483       1  \n",
       "4 2017-07-05 09:54:57      1206  59.425996  24.651400       1  \n",
       "5 2017-07-05 12:21:10      6941  59.442742  24.624479       1  \n",
       "6 2017-07-05 16:12:35      3313  59.433688  24.367671       1  \n",
       "7 2017-07-05 22:00:00     14755  59.345679  24.184467       1  \n",
       "8 2017-07-06 11:24:00     48240  59.345679  24.184467       2  \n",
       "9 2017-07-06 11:58:12       988  59.339574  24.105025       2  "
      ]
     },
     "execution_count": 10,
     "metadata": {},
     "output_type": "execute_result"
    }
   ],
   "source": [
    "# Check if columns are correct\n",
    "df_places.head(10)"
   ]
  },
  {
   "cell_type": "markdown",
   "metadata": {},
   "source": [
    "### Summary"
   ]
  },
  {
   "cell_type": "markdown",
   "metadata": {},
   "source": [
    "'Summary' is the activities that **Moves** app keeps in between each pair of consecutive 'places'. Then those activities are summed up to *transport* duration, *walking* duration and *biking* duration. So for example if we check the table above, there are eight iterations(stops) at the first day. From the end of the first to the beginning of the second place, I can count 34 minutes. This could be either *walking* or *cycling* or *transport* labeled and will be summed up at the end of the day at the same group, along with the rest of the activities labeled with the same type."
   ]
  },
  {
   "cell_type": "code",
   "execution_count": 10,
   "metadata": {
    "collapsed": false,
    "scrolled": true
   },
   "outputs": [
    {
     "data": {
      "text/html": [
       "<div>\n",
       "<table border=\"1\" class=\"dataframe\">\n",
       "  <thead>\n",
       "    <tr style=\"text-align: right;\">\n",
       "      <th></th>\n",
       "      <th>iter_no</th>\n",
       "      <th>Date</th>\n",
       "      <th>Activity</th>\n",
       "      <th>Duration</th>\n",
       "      <th>Distance</th>\n",
       "      <th>Steps</th>\n",
       "      <th>Calories</th>\n",
       "    </tr>\n",
       "  </thead>\n",
       "  <tbody>\n",
       "    <tr>\n",
       "      <th>0</th>\n",
       "      <td>1</td>\n",
       "      <td>2017-07-05</td>\n",
       "      <td>transport</td>\n",
       "      <td>1680</td>\n",
       "      <td>248.965</td>\n",
       "      <td>0</td>\n",
       "      <td>0</td>\n",
       "    </tr>\n",
       "    <tr>\n",
       "      <th>1</th>\n",
       "      <td>2</td>\n",
       "      <td>2017-07-05</td>\n",
       "      <td>walking</td>\n",
       "      <td>367</td>\n",
       "      <td>0.255</td>\n",
       "      <td>506</td>\n",
       "      <td>16</td>\n",
       "    </tr>\n",
       "    <tr>\n",
       "      <th>2</th>\n",
       "      <td>3</td>\n",
       "      <td>2017-07-05</td>\n",
       "      <td>cycling</td>\n",
       "      <td>17898</td>\n",
       "      <td>73.617</td>\n",
       "      <td>0</td>\n",
       "      <td>2089</td>\n",
       "    </tr>\n",
       "    <tr>\n",
       "      <th>3</th>\n",
       "      <td>1</td>\n",
       "      <td>2017-07-06</td>\n",
       "      <td>cycling</td>\n",
       "      <td>21100</td>\n",
       "      <td>125.841</td>\n",
       "      <td>0</td>\n",
       "      <td>3471</td>\n",
       "    </tr>\n",
       "    <tr>\n",
       "      <th>4</th>\n",
       "      <td>1</td>\n",
       "      <td>2017-07-07</td>\n",
       "      <td>walking</td>\n",
       "      <td>62</td>\n",
       "      <td>0.040</td>\n",
       "      <td>80</td>\n",
       "      <td>3</td>\n",
       "    </tr>\n",
       "    <tr>\n",
       "      <th>5</th>\n",
       "      <td>2</td>\n",
       "      <td>2017-07-07</td>\n",
       "      <td>cycling</td>\n",
       "      <td>23986</td>\n",
       "      <td>138.479</td>\n",
       "      <td>0</td>\n",
       "      <td>3827</td>\n",
       "    </tr>\n",
       "    <tr>\n",
       "      <th>6</th>\n",
       "      <td>1</td>\n",
       "      <td>2017-07-08</td>\n",
       "      <td>walking</td>\n",
       "      <td>115</td>\n",
       "      <td>0.079</td>\n",
       "      <td>150</td>\n",
       "      <td>5</td>\n",
       "    </tr>\n",
       "    <tr>\n",
       "      <th>7</th>\n",
       "      <td>2</td>\n",
       "      <td>2017-07-08</td>\n",
       "      <td>cycling</td>\n",
       "      <td>22708</td>\n",
       "      <td>136.213</td>\n",
       "      <td>0</td>\n",
       "      <td>3755</td>\n",
       "    </tr>\n",
       "    <tr>\n",
       "      <th>8</th>\n",
       "      <td>3</td>\n",
       "      <td>2017-07-08</td>\n",
       "      <td>transport</td>\n",
       "      <td>212</td>\n",
       "      <td>0.739</td>\n",
       "      <td>0</td>\n",
       "      <td>0</td>\n",
       "    </tr>\n",
       "    <tr>\n",
       "      <th>9</th>\n",
       "      <td>1</td>\n",
       "      <td>2017-07-09</td>\n",
       "      <td>walking</td>\n",
       "      <td>201</td>\n",
       "      <td>0.153</td>\n",
       "      <td>307</td>\n",
       "      <td>10</td>\n",
       "    </tr>\n",
       "  </tbody>\n",
       "</table>\n",
       "</div>"
      ],
      "text/plain": [
       "   iter_no       Date   Activity  Duration  Distance  Steps  Calories\n",
       "0        1 2017-07-05  transport      1680   248.965      0         0\n",
       "1        2 2017-07-05    walking       367     0.255    506        16\n",
       "2        3 2017-07-05    cycling     17898    73.617      0      2089\n",
       "3        1 2017-07-06    cycling     21100   125.841      0      3471\n",
       "4        1 2017-07-07    walking        62     0.040     80         3\n",
       "5        2 2017-07-07    cycling     23986   138.479      0      3827\n",
       "6        1 2017-07-08    walking       115     0.079    150         5\n",
       "7        2 2017-07-08    cycling     22708   136.213      0      3755\n",
       "8        3 2017-07-08  transport       212     0.739      0         0\n",
       "9        1 2017-07-09    walking       201     0.153    307        10"
      ]
     },
     "execution_count": 10,
     "metadata": {},
     "output_type": "execute_result"
    }
   ],
   "source": [
    "# Places df\n",
    "df_summary = pd.DataFrame()\n",
    "for file_name in csv_files_summary:\n",
    "    df_tmp = pd.read_csv(path_to_summary+file_name)\n",
    "    df_summary = pd.concat([df_summary, df_tmp])\n",
    "    \n",
    "# Drop group column\n",
    "df_summary = df_summary.drop('Group',axis = 1).reset_index() \n",
    "    \n",
    "# Change str and end time to datetime type\n",
    "df_summary['Date'] = df_summary['Date'].apply(lambda x: yearFixer(x))\n",
    "df_summary['Date'] = df_summary['Date'].apply(lambda x: dateConverter(x))\n",
    "\n",
    "# Rename index column to iter_no like STRAVA\n",
    "df_summary.rename(columns={'index': 'iter_no'}, inplace=True)\n",
    "df_summary['iter_no'] = df_summary['iter_no'].apply(lambda x: iterNo(x))\n",
    "\n",
    "df_summary.head(10)"
   ]
  },
  {
   "cell_type": "markdown",
   "metadata": {},
   "source": [
    "We mostly care about *cycling* from the above dataframe. So we will filter out the *cycling* per day, and we will add up some extra columns. "
   ]
  },
  {
   "cell_type": "markdown",
   "metadata": {},
   "source": [
    "#### Cycling Distance per day"
   ]
  },
  {
   "cell_type": "code",
   "execution_count": 11,
   "metadata": {
    "collapsed": true
   },
   "outputs": [],
   "source": [
    "# List the number of cycling meters per day \n",
    "cycling_df = df_summary[df_summary['Activity']=='cycling'].groupby('Date').sum(\n",
    ").reset_index().sort_values(by='Date', ascending=1)\n",
    "\n",
    "# Drop unesessary columns\n",
    "cycling_df = cycling_df.filter(items=['Date', 'Distance','Duration'])\n",
    "\n",
    "# Change column name\n",
    "cycling_df.rename(columns={'Distance': 'ttl_cyc_km','Duration' : 'ttl_cyc_seconds'}, inplace=True)\n",
    "\n",
    "# Create column with converted seconds to hours:minutes:seconds format (string)\n",
    "cycling_df['ttl_cyc_duration'] = cycling_df['ttl_cyc_seconds'].apply(lambda x: secToHours(x))\n",
    "\n",
    "# Create a new column named avg_speed \n",
    "cycling_df['avg_day_speed']= cycling_df[['ttl_cyc_km','ttl_cyc_seconds']].apply(lambda x: avgSpeedConverter(*x), axis=1) "
   ]
  },
  {
   "cell_type": "code",
   "execution_count": 12,
   "metadata": {
    "collapsed": false
   },
   "outputs": [
    {
     "data": {
      "text/html": [
       "<div>\n",
       "<table border=\"1\" class=\"dataframe\">\n",
       "  <thead>\n",
       "    <tr style=\"text-align: right;\">\n",
       "      <th></th>\n",
       "      <th>Date</th>\n",
       "      <th>ttl_cyc_km</th>\n",
       "      <th>ttl_cyc_seconds</th>\n",
       "      <th>ttl_cyc_duration</th>\n",
       "      <th>avg_day_speed</th>\n",
       "    </tr>\n",
       "  </thead>\n",
       "  <tbody>\n",
       "    <tr>\n",
       "      <th>0</th>\n",
       "      <td>2017-07-05</td>\n",
       "      <td>73.617</td>\n",
       "      <td>17898</td>\n",
       "      <td>04:58:18</td>\n",
       "      <td>14.807308</td>\n",
       "    </tr>\n",
       "    <tr>\n",
       "      <th>1</th>\n",
       "      <td>2017-07-06</td>\n",
       "      <td>125.841</td>\n",
       "      <td>21100</td>\n",
       "      <td>05:51:40</td>\n",
       "      <td>21.470502</td>\n",
       "    </tr>\n",
       "    <tr>\n",
       "      <th>2</th>\n",
       "      <td>2017-07-07</td>\n",
       "      <td>138.479</td>\n",
       "      <td>23986</td>\n",
       "      <td>06:39:46</td>\n",
       "      <td>20.783974</td>\n",
       "    </tr>\n",
       "    <tr>\n",
       "      <th>3</th>\n",
       "      <td>2017-07-08</td>\n",
       "      <td>136.213</td>\n",
       "      <td>22708</td>\n",
       "      <td>06:18:28</td>\n",
       "      <td>21.594451</td>\n",
       "    </tr>\n",
       "    <tr>\n",
       "      <th>4</th>\n",
       "      <td>2017-07-09</td>\n",
       "      <td>154.117</td>\n",
       "      <td>26973</td>\n",
       "      <td>07:29:33</td>\n",
       "      <td>20.569503</td>\n",
       "    </tr>\n",
       "    <tr>\n",
       "      <th>5</th>\n",
       "      <td>2017-07-10</td>\n",
       "      <td>120.054</td>\n",
       "      <td>22762</td>\n",
       "      <td>06:19:22</td>\n",
       "      <td>18.987541</td>\n",
       "    </tr>\n",
       "    <tr>\n",
       "      <th>6</th>\n",
       "      <td>2017-07-11</td>\n",
       "      <td>69.906</td>\n",
       "      <td>13027</td>\n",
       "      <td>03:37:07</td>\n",
       "      <td>19.318462</td>\n",
       "    </tr>\n",
       "    <tr>\n",
       "      <th>7</th>\n",
       "      <td>2017-07-12</td>\n",
       "      <td>87.636</td>\n",
       "      <td>21665</td>\n",
       "      <td>06:01:05</td>\n",
       "      <td>14.562179</td>\n",
       "    </tr>\n",
       "    <tr>\n",
       "      <th>8</th>\n",
       "      <td>2017-07-13</td>\n",
       "      <td>109.449</td>\n",
       "      <td>25757</td>\n",
       "      <td>07:09:17</td>\n",
       "      <td>15.297449</td>\n",
       "    </tr>\n",
       "    <tr>\n",
       "      <th>9</th>\n",
       "      <td>2017-07-14</td>\n",
       "      <td>117.369</td>\n",
       "      <td>23943</td>\n",
       "      <td>06:39:03</td>\n",
       "      <td>17.647262</td>\n",
       "    </tr>\n",
       "  </tbody>\n",
       "</table>\n",
       "</div>"
      ],
      "text/plain": [
       "        Date  ttl_cyc_km  ttl_cyc_seconds ttl_cyc_duration  avg_day_speed\n",
       "0 2017-07-05      73.617            17898         04:58:18      14.807308\n",
       "1 2017-07-06     125.841            21100         05:51:40      21.470502\n",
       "2 2017-07-07     138.479            23986         06:39:46      20.783974\n",
       "3 2017-07-08     136.213            22708         06:18:28      21.594451\n",
       "4 2017-07-09     154.117            26973         07:29:33      20.569503\n",
       "5 2017-07-10     120.054            22762         06:19:22      18.987541\n",
       "6 2017-07-11      69.906            13027         03:37:07      19.318462\n",
       "7 2017-07-12      87.636            21665         06:01:05      14.562179\n",
       "8 2017-07-13     109.449            25757         07:09:17      15.297449\n",
       "9 2017-07-14     117.369            23943         06:39:03      17.647262"
      ]
     },
     "execution_count": 12,
     "metadata": {},
     "output_type": "execute_result"
    }
   ],
   "source": [
    "cycling_df.head(10)"
   ]
  },
  {
   "cell_type": "markdown",
   "metadata": {},
   "source": [
    "Just for the record, let's sum up the total cycling distance of the trip, captured by **Moves** app."
   ]
  },
  {
   "cell_type": "code",
   "execution_count": 13,
   "metadata": {
    "collapsed": false
   },
   "outputs": [
    {
     "name": "stdout",
     "output_type": "stream",
     "text": [
      "Total cycling distance of the whole trip: \t3159.71 km \n",
      "Total time cycled: \t\t\t\t174:13:30 h|m|s\n"
     ]
    }
   ],
   "source": [
    "# TTL\n",
    "print 'Total cycling distance of the whole trip: \\t%.2f km \\nTotal time cycled: \\t\\t\\t\\t%s h|m|s' % (sum(\n",
    "    cycling_df['ttl_cyc_km']),secToHours(sum(cycling_df['ttl_cyc_seconds'])))"
   ]
  },
  {
   "cell_type": "markdown",
   "metadata": {},
   "source": [
    "It seems to be about **500km** longer then what **Garmin** says. That is because most of the times, **Garmin** was used only if we were sure that we will not stop in less then 10 minutes. So if we were just moving around a city to go pick some groceries, or when we split to go find water in order to be able either to cook or to take a bath at night, or when I was just forgetting to initiate a new activity on time, or when we were at a dead end and had to go back some kilometers, **Garmin** was missing data. So we can say that the **real kilometers** are **3159km** but the **actual route kilometers** were **2690km**"
   ]
  },
  {
   "cell_type": "markdown",
   "metadata": {},
   "source": [
    "#### Walking Distance and steps per day\n"
   ]
  },
  {
   "cell_type": "code",
   "execution_count": 15,
   "metadata": {
    "collapsed": true
   },
   "outputs": [],
   "source": [
    "# List the number of walking meters per day \n",
    "walking_df = df_summary[df_summary['Activity']=='walking'].groupby('Date').sum(\n",
    ").reset_index().sort_values(by='Date', ascending=1)\n",
    "\n",
    "# Drop unesessary columns\n",
    "walking_df = walking_df.filter(items=['Date', 'Distance', 'Steps'])\n",
    "\n",
    "# Change column name\n",
    "walking_df.rename(columns={'Distance': 'ttl_wal_distance', 'Steps': 'ttl_steps'}, inplace=True)"
   ]
  },
  {
   "cell_type": "code",
   "execution_count": 16,
   "metadata": {
    "collapsed": false
   },
   "outputs": [
    {
     "data": {
      "text/html": [
       "<div>\n",
       "<table border=\"1\" class=\"dataframe\">\n",
       "  <thead>\n",
       "    <tr style=\"text-align: right;\">\n",
       "      <th></th>\n",
       "      <th>Date</th>\n",
       "      <th>ttl_wal_distance</th>\n",
       "      <th>ttl_steps</th>\n",
       "    </tr>\n",
       "  </thead>\n",
       "  <tbody>\n",
       "    <tr>\n",
       "      <th>0</th>\n",
       "      <td>2017-07-05</td>\n",
       "      <td>0.255</td>\n",
       "      <td>506</td>\n",
       "    </tr>\n",
       "    <tr>\n",
       "      <th>1</th>\n",
       "      <td>2017-07-07</td>\n",
       "      <td>0.040</td>\n",
       "      <td>80</td>\n",
       "    </tr>\n",
       "    <tr>\n",
       "      <th>2</th>\n",
       "      <td>2017-07-08</td>\n",
       "      <td>0.079</td>\n",
       "      <td>150</td>\n",
       "    </tr>\n",
       "    <tr>\n",
       "      <th>3</th>\n",
       "      <td>2017-07-09</td>\n",
       "      <td>0.153</td>\n",
       "      <td>307</td>\n",
       "    </tr>\n",
       "    <tr>\n",
       "      <th>4</th>\n",
       "      <td>2017-07-10</td>\n",
       "      <td>0.201</td>\n",
       "      <td>276</td>\n",
       "    </tr>\n",
       "  </tbody>\n",
       "</table>\n",
       "</div>"
      ],
      "text/plain": [
       "        Date  ttl_wal_distance  ttl_steps\n",
       "0 2017-07-05             0.255        506\n",
       "1 2017-07-07             0.040         80\n",
       "2 2017-07-08             0.079        150\n",
       "3 2017-07-09             0.153        307\n",
       "4 2017-07-10             0.201        276"
      ]
     },
     "execution_count": 16,
     "metadata": {},
     "output_type": "execute_result"
    }
   ],
   "source": [
    "walking_df.head()"
   ]
  },
  {
   "cell_type": "code",
   "execution_count": 17,
   "metadata": {
    "collapsed": false
   },
   "outputs": [
    {
     "name": "stdout",
     "output_type": "stream",
     "text": [
      "Total walking distance covered during the trip: 12.40 km \n",
      "Total steps covered during the trip: \t\t19763 steps\n"
     ]
    }
   ],
   "source": [
    "# TTL\n",
    "print 'Total walking distance covered during the trip: %.2f km \\nTotal steps covered during the trip: \\t\\t%d steps' % (\n",
    "    sum(walking_df['ttl_wal_distance']),sum(walking_df['ttl_steps']))"
   ]
  },
  {
   "cell_type": "markdown",
   "metadata": {},
   "source": [
    "Doing the same for the *walking* activity, we can see that I only walked about 12 km in 28 days which is quite funny. It would have been a bigger number probably if I was holding the mobile while moving around to build the tent or move around a supermarket. The biking suite I was wearing had no pockets to put the mobile in so most of the times the mobile was on the mount."
   ]
  },
  {
   "cell_type": "markdown",
   "metadata": {},
   "source": [
    "#### Calories burnt per day\n"
   ]
  },
  {
   "cell_type": "code",
   "execution_count": 25,
   "metadata": {
    "collapsed": false
   },
   "outputs": [],
   "source": [
    "# List the number of calories burnt per day \n",
    "calories_df = df_summary.groupby('Date').sum(\n",
    ").reset_index().sort_values(by='Date', ascending=1)\n",
    "\n",
    "# Drop unesessary columns\n",
    "calories_df = calories_df.filter(items=['Date', 'Calories'])\n",
    "\n",
    "# Change column name\n",
    "calories_df.rename(columns={'Calories': 'ttl_cal_burnt'}, inplace=True)\n",
    "\n",
    "# Add day_no column to keep as a key\n",
    "calories_df['day_no']= calories_df.index + 1"
   ]
  },
  {
   "cell_type": "code",
   "execution_count": 26,
   "metadata": {
    "collapsed": false
   },
   "outputs": [
    {
     "data": {
      "text/html": [
       "<div>\n",
       "<table border=\"1\" class=\"dataframe\">\n",
       "  <thead>\n",
       "    <tr style=\"text-align: right;\">\n",
       "      <th></th>\n",
       "      <th>Date</th>\n",
       "      <th>ttl_cal_burnt</th>\n",
       "      <th>day_no</th>\n",
       "    </tr>\n",
       "  </thead>\n",
       "  <tbody>\n",
       "    <tr>\n",
       "      <th>0</th>\n",
       "      <td>2017-07-05</td>\n",
       "      <td>2105</td>\n",
       "      <td>1</td>\n",
       "    </tr>\n",
       "    <tr>\n",
       "      <th>1</th>\n",
       "      <td>2017-07-06</td>\n",
       "      <td>3471</td>\n",
       "      <td>2</td>\n",
       "    </tr>\n",
       "    <tr>\n",
       "      <th>2</th>\n",
       "      <td>2017-07-07</td>\n",
       "      <td>3830</td>\n",
       "      <td>3</td>\n",
       "    </tr>\n",
       "    <tr>\n",
       "      <th>3</th>\n",
       "      <td>2017-07-08</td>\n",
       "      <td>3760</td>\n",
       "      <td>4</td>\n",
       "    </tr>\n",
       "    <tr>\n",
       "      <th>4</th>\n",
       "      <td>2017-07-09</td>\n",
       "      <td>4273</td>\n",
       "      <td>5</td>\n",
       "    </tr>\n",
       "  </tbody>\n",
       "</table>\n",
       "</div>"
      ],
      "text/plain": [
       "        Date  ttl_cal_burnt  day_no\n",
       "0 2017-07-05           2105       1\n",
       "1 2017-07-06           3471       2\n",
       "2 2017-07-07           3830       3\n",
       "3 2017-07-08           3760       4\n",
       "4 2017-07-09           4273       5"
      ]
     },
     "execution_count": 26,
     "metadata": {},
     "output_type": "execute_result"
    }
   ],
   "source": [
    "calories_df.head()"
   ]
  },
  {
   "cell_type": "markdown",
   "metadata": {},
   "source": [
    "We can use this data instead of the **calories burnt** calculated by the custom function created here--> [parsing LifeSum Data](https://github.com/oikonang/bike_trip_project/blob/master/data_manging/Parsing%20LifeSum%20data.ipynb) so we will first download the above dataframe as csv and then merge with the calories data of the link."
   ]
  },
  {
   "cell_type": "code",
   "execution_count": 27,
   "metadata": {
    "collapsed": false
   },
   "outputs": [],
   "source": [
    "# Save it to a csv\n",
    "calories_df.to_csv('python_data/calories_from_moves.csv', index=False)"
   ]
  },
  {
   "cell_type": "code",
   "execution_count": 28,
   "metadata": {
    "collapsed": false
   },
   "outputs": [
    {
     "name": "stdout",
     "output_type": "stream",
     "text": [
      "Total calories burnt during the trip: 88954 cal\n"
     ]
    }
   ],
   "source": [
    "# TTL\n",
    "print 'Total calories burnt during the trip: %d cal' % sum(calories_df['ttl_cal_burnt'])"
   ]
  }
 ],
 "metadata": {
  "hide_input": false,
  "kernelspec": {
   "display_name": "Python 2",
   "language": "python",
   "name": "python2"
  },
  "language_info": {
   "codemirror_mode": {
    "name": "ipython",
    "version": 2
   },
   "file_extension": ".py",
   "mimetype": "text/x-python",
   "name": "python",
   "nbconvert_exporter": "python",
   "pygments_lexer": "ipython2",
   "version": "2.7.12"
  }
 },
 "nbformat": 4,
 "nbformat_minor": 1
}
