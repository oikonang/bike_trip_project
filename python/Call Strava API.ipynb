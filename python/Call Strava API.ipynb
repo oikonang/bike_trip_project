{
 "cells": [
  {
   "cell_type": "markdown",
   "metadata": {},
   "source": [
    "## Load libraries"
   ]
  },
  {
   "cell_type": "code",
   "execution_count": 1,
   "metadata": {
    "collapsed": true
   },
   "outputs": [],
   "source": [
    "#!/usr/bin/python\n",
    "# -*- coding: utf-8 -*-\n",
    "import stravalib\n",
    "import BaseHTTPServer\n",
    "import urlparse\n",
    "import webbrowser\n",
    "import pandas as pd\n",
    "import datetime"
   ]
  },
  {
   "cell_type": "markdown",
   "metadata": {},
   "source": [
    "## Establish connection"
   ]
  },
  {
   "cell_type": "code",
   "execution_count": 7,
   "metadata": {
    "collapsed": true
   },
   "outputs": [],
   "source": [
    "#Global Variables - put your data in the file 'client.secret' and separate the fields with a comma!\n",
    "client_id, secret = open('client.secret').read().strip().split(',')\n",
    "port = 5000\n",
    "url = 'http://localhost:%d/authorized' % port\n",
    "allDone = False\n",
    "types = ['time', 'distance', 'latlng', 'altitude', 'velocity_smooth', 'moving', 'grade_smooth', 'temp', 'heartrate']\n",
    "limit = 1"
   ]
  },
  {
   "cell_type": "code",
   "execution_count": 3,
   "metadata": {
    "collapsed": false
   },
   "outputs": [
    {
     "name": "stdout",
     "output_type": "stream",
     "text": [
      "Opening: https://www.strava.com/oauth/authorize?approval_prompt=auto&redirect_uri=http%3A%2F%2Flocalhost%3A5000%2Fauthorized&response_type=code&client_id=17077\n"
     ]
    },
    {
     "data": {
      "text/plain": [
       "True"
      ]
     },
     "execution_count": 3,
     "metadata": {},
     "output_type": "execute_result"
    }
   ],
   "source": [
    "#Create the strava client, and open the web browser for authentication\n",
    "client = stravalib.client.Client()\n",
    "authorize_url = client.authorization_url(client_id=client_id, redirect_uri=url)\n",
    "print 'Opening: %s' % authorize_url\n",
    "webbrowser.open(authorize_url)"
   ]
  },
  {
   "cell_type": "code",
   "execution_count": 4,
   "metadata": {
    "collapsed": true
   },
   "outputs": [],
   "source": [
    "#Define the web functions to call from the strava API\n",
    "def UseCode(code):\n",
    "    #Retrieve the login code from the Strava server\n",
    "    access_token = client.exchange_code_for_token(client_id=client_id,\n",
    "                                                client_secret=secret, code=code)\n",
    "    # Now store that access token somewhere (for now, it's just a local variable)\n",
    "    client.access_token = access_token\n",
    "    athlete = client.get_athlete()\n",
    "    print(\"For %(id)s, I now have an access token %(token)s\" %\n",
    "        {'id': athlete.id, 'token': access_token})\n",
    "    return client"
   ]
  },
  {
   "cell_type": "markdown",
   "metadata": {},
   "source": [
    "## Collect Data"
   ]
  },
  {
   "cell_type": "code",
   "execution_count": 5,
   "metadata": {
    "collapsed": true
   },
   "outputs": [],
   "source": [
    "def GetActivities(client,limit):\n",
    "    #Returns a list of Strava activity objects, up to the number specified by limit\n",
    "    activities = client.get_activities(limit=limit)\n",
    "    assert len(list(activities)) == limit\n",
    "    for item in activities:\n",
    "        print item\n",
    "    return activities"
   ]
  },
  {
   "cell_type": "code",
   "execution_count": 8,
   "metadata": {
    "collapsed": true
   },
   "outputs": [],
   "source": [
    "def GetStreams(client, activity, types):\n",
    "    #Returns a Strava 'stream', which is timeseries data from an activity\n",
    "    streams = client.get_activity_streams(activity, types=types, series_type='time')\n",
    "    return streams"
   ]
  },
  {
   "cell_type": "markdown",
   "metadata": {},
   "source": [
    "## Create pandas Dataframe to handle data"
   ]
  },
  {
   "cell_type": "code",
   "execution_count": 9,
   "metadata": {
    "collapsed": true
   },
   "outputs": [],
   "source": [
    "def DataFrame(dict,types):\n",
    "    #Converts a Stream into a dataframe, and returns the dataframe\n",
    "    print dict, types\n",
    "    df = pd.DataFrame()\n",
    "    for item in types:\n",
    "        if item in dict.keys():\n",
    "            df.append(item.data)\n",
    "    df.fillna('',inplace=True)\n",
    "    return df"
   ]
  },
  {
   "cell_type": "code",
   "execution_count": 10,
   "metadata": {
    "collapsed": true
   },
   "outputs": [],
   "source": [
    "def ParseActivity(act,types):\n",
    "    act_id = act.id\n",
    "    name = act.name\n",
    "    print str(act_id), str(act.name), act.start_date\n",
    "    streams = GetStreams(client,act_id,types)\n",
    "    df = pd.DataFrame()\n",
    "\n",
    "    #Write each row to a dataframe\n",
    "    for item in types:\n",
    "        if item in streams.keys():\n",
    "            df[item] = pd.Series(streams[item].data,index=None)\n",
    "        df['act_id'] = act.id\n",
    "        df['act_startDate']= pd.to_datetime(act.start_date)\n",
    "        df['act_name'] = name\n",
    "    return df"
   ]
  },
  {
   "cell_type": "code",
   "execution_count": 11,
   "metadata": {
    "collapsed": true
   },
   "outputs": [],
   "source": [
    "def calctime(time_sec, startdate):\n",
    "    try:\n",
    "        timestamp = startdate + datetime.timedelta(seconds=int(time_sec))\n",
    "    except:\n",
    "        print 'time processing error : ' + str(time_sec)\n",
    "        timestamp = startdate\n",
    "    return timestamp"
   ]
  },
  {
   "cell_type": "code",
   "execution_count": 12,
   "metadata": {
    "collapsed": true
   },
   "outputs": [],
   "source": [
    "def split_lat(series):\n",
    "    lat = series[0]\n",
    "    return lat\n",
    "\n",
    "def split_long(series):\n",
    "    long = series[1]\n",
    "    return long\n",
    "\n",
    "def concatdf(df_lst):\n",
    "    return pd.concat(df_lst, ignore_index=False)"
   ]
  },
  {
   "cell_type": "code",
   "execution_count": 13,
   "metadata": {
    "collapsed": true
   },
   "outputs": [],
   "source": [
    "class MyHandler(BaseHTTPServer.BaseHTTPRequestHandler):\n",
    "  #Handle the web data sent from the strava API\n",
    "\n",
    "  def do_HEAD(self):\n",
    "    return self.do_GET()\n",
    "\n",
    "  def do_GET(self):\n",
    "    #Get the API code for Strava\n",
    "    self.wfile.write('<script>window.close();</script>')\n",
    "    code = urlparse.parse_qs(urlparse.urlparse(self.path).query)['code'][0]\n",
    "\n",
    "    #Login to the API\n",
    "    client  = UseCode(code)\n",
    "\n",
    "    #Retrieve the last limit activities\n",
    "    activities = GetActivities(client,limit)\n",
    "\n",
    "    #Loop through the activities, and create a dict of the dataframe stream data of each activity\n",
    "    print \"looping through activities...\"\n",
    "    df_lst = {}\n",
    "    for act in activities:\n",
    "        df_lst[act.start_date] = ParseActivity(act,types)\n",
    "\n",
    "    #create the concatenated df and fill null values\n",
    "    df_total = concatdf(df_lst)\n",
    "    df_total.fillna('',inplace=True)\n",
    "\n",
    "    #Calculate the timestamp column\n",
    "    df_total = df_total.reset_index(level=0)\n",
    "    df_total['timestamp'] = pd.to_datetime(map(calctime, df_total['time'], df_total['level_0'])).to_pydatetime()\n",
    "\n",
    "    #Split out lat and long columns\n",
    "    df_total['lat'] = map(split_lat, (df_total['latlng']))\n",
    "    df_total['long'] = map(split_long, (df_total['latlng']))\n",
    "\n",
    "    #Index by startdate and timestamp, and drop arbitrary columns\n",
    "    df_total = df_total.set_index(['act_startDate','timestamp'])\n",
    "    df_total.drop(['latlng', 'level_0'], axis=1, inplace=True)\n",
    "    print df_total.head(2)\n",
    "\n",
    "    #Write the file to a CSV - this will end up in your working directory\n",
    "    now = datetime.datetime.now()\n",
    "    df_total.to_csv('RideData_' + str(now.strftime('%Y%m%d%H%M%S')) + '.csv')"
   ]
  },
  {
   "cell_type": "code",
   "execution_count": 14,
   "metadata": {
    "collapsed": false
   },
   "outputs": [
    {
     "ename": "KeyboardInterrupt",
     "evalue": "",
     "output_type": "error",
     "traceback": [
      "\u001b[0;31m---------------------------------------------------------------------------\u001b[0m",
      "\u001b[0;31mKeyboardInterrupt\u001b[0m                         Traceback (most recent call last)",
      "\u001b[0;32m<ipython-input-14-3b96e07a132c>\u001b[0m in \u001b[0;36m<module>\u001b[0;34m()\u001b[0m\n\u001b[1;32m      2\u001b[0m \u001b[0mhttpd\u001b[0m \u001b[0;34m=\u001b[0m \u001b[0mBaseHTTPServer\u001b[0m\u001b[0;34m.\u001b[0m\u001b[0mHTTPServer\u001b[0m\u001b[0;34m(\u001b[0m\u001b[0;34m(\u001b[0m\u001b[0;34m'localhost'\u001b[0m\u001b[0;34m,\u001b[0m \u001b[0mport\u001b[0m\u001b[0;34m)\u001b[0m\u001b[0;34m,\u001b[0m \u001b[0mMyHandler\u001b[0m\u001b[0;34m)\u001b[0m\u001b[0;34m\u001b[0m\u001b[0m\n\u001b[1;32m      3\u001b[0m \u001b[0;32mwhile\u001b[0m \u001b[0;32mnot\u001b[0m \u001b[0mallDone\u001b[0m\u001b[0;34m:\u001b[0m\u001b[0;34m\u001b[0m\u001b[0m\n\u001b[0;32m----> 4\u001b[0;31m     \u001b[0mhttpd\u001b[0m\u001b[0;34m.\u001b[0m\u001b[0mhandle_request\u001b[0m\u001b[0;34m(\u001b[0m\u001b[0;34m)\u001b[0m\u001b[0;34m\u001b[0m\u001b[0m\n\u001b[0m",
      "\u001b[0;32m/usr/local/Cellar/python/2.7.12_2/Frameworks/Python.framework/Versions/2.7/lib/python2.7/SocketServer.pyc\u001b[0m in \u001b[0;36mhandle_request\u001b[0;34m(self)\u001b[0m\n\u001b[1;32m    269\u001b[0m         \u001b[0;32melif\u001b[0m \u001b[0mself\u001b[0m\u001b[0;34m.\u001b[0m\u001b[0mtimeout\u001b[0m \u001b[0;32mis\u001b[0m \u001b[0;32mnot\u001b[0m \u001b[0mNone\u001b[0m\u001b[0;34m:\u001b[0m\u001b[0;34m\u001b[0m\u001b[0m\n\u001b[1;32m    270\u001b[0m             \u001b[0mtimeout\u001b[0m \u001b[0;34m=\u001b[0m \u001b[0mmin\u001b[0m\u001b[0;34m(\u001b[0m\u001b[0mtimeout\u001b[0m\u001b[0;34m,\u001b[0m \u001b[0mself\u001b[0m\u001b[0;34m.\u001b[0m\u001b[0mtimeout\u001b[0m\u001b[0;34m)\u001b[0m\u001b[0;34m\u001b[0m\u001b[0m\n\u001b[0;32m--> 271\u001b[0;31m         \u001b[0mfd_sets\u001b[0m \u001b[0;34m=\u001b[0m \u001b[0m_eintr_retry\u001b[0m\u001b[0;34m(\u001b[0m\u001b[0mselect\u001b[0m\u001b[0;34m.\u001b[0m\u001b[0mselect\u001b[0m\u001b[0;34m,\u001b[0m \u001b[0;34m[\u001b[0m\u001b[0mself\u001b[0m\u001b[0;34m]\u001b[0m\u001b[0;34m,\u001b[0m \u001b[0;34m[\u001b[0m\u001b[0;34m]\u001b[0m\u001b[0;34m,\u001b[0m \u001b[0;34m[\u001b[0m\u001b[0;34m]\u001b[0m\u001b[0;34m,\u001b[0m \u001b[0mtimeout\u001b[0m\u001b[0;34m)\u001b[0m\u001b[0;34m\u001b[0m\u001b[0m\n\u001b[0m\u001b[1;32m    272\u001b[0m         \u001b[0;32mif\u001b[0m \u001b[0;32mnot\u001b[0m \u001b[0mfd_sets\u001b[0m\u001b[0;34m[\u001b[0m\u001b[0;36m0\u001b[0m\u001b[0;34m]\u001b[0m\u001b[0;34m:\u001b[0m\u001b[0;34m\u001b[0m\u001b[0m\n\u001b[1;32m    273\u001b[0m             \u001b[0mself\u001b[0m\u001b[0;34m.\u001b[0m\u001b[0mhandle_timeout\u001b[0m\u001b[0;34m(\u001b[0m\u001b[0;34m)\u001b[0m\u001b[0;34m\u001b[0m\u001b[0m\n",
      "\u001b[0;32m/usr/local/Cellar/python/2.7.12_2/Frameworks/Python.framework/Versions/2.7/lib/python2.7/SocketServer.pyc\u001b[0m in \u001b[0;36m_eintr_retry\u001b[0;34m(func, *args)\u001b[0m\n\u001b[1;32m    148\u001b[0m     \u001b[0;32mwhile\u001b[0m \u001b[0mTrue\u001b[0m\u001b[0;34m:\u001b[0m\u001b[0;34m\u001b[0m\u001b[0m\n\u001b[1;32m    149\u001b[0m         \u001b[0;32mtry\u001b[0m\u001b[0;34m:\u001b[0m\u001b[0;34m\u001b[0m\u001b[0m\n\u001b[0;32m--> 150\u001b[0;31m             \u001b[0;32mreturn\u001b[0m \u001b[0mfunc\u001b[0m\u001b[0;34m(\u001b[0m\u001b[0;34m*\u001b[0m\u001b[0margs\u001b[0m\u001b[0;34m)\u001b[0m\u001b[0;34m\u001b[0m\u001b[0m\n\u001b[0m\u001b[1;32m    151\u001b[0m         \u001b[0;32mexcept\u001b[0m \u001b[0;34m(\u001b[0m\u001b[0mOSError\u001b[0m\u001b[0;34m,\u001b[0m \u001b[0mselect\u001b[0m\u001b[0;34m.\u001b[0m\u001b[0merror\u001b[0m\u001b[0;34m)\u001b[0m \u001b[0;32mas\u001b[0m \u001b[0me\u001b[0m\u001b[0;34m:\u001b[0m\u001b[0;34m\u001b[0m\u001b[0m\n\u001b[1;32m    152\u001b[0m             \u001b[0;32mif\u001b[0m \u001b[0me\u001b[0m\u001b[0;34m.\u001b[0m\u001b[0margs\u001b[0m\u001b[0;34m[\u001b[0m\u001b[0;36m0\u001b[0m\u001b[0;34m]\u001b[0m \u001b[0;34m!=\u001b[0m \u001b[0merrno\u001b[0m\u001b[0;34m.\u001b[0m\u001b[0mEINTR\u001b[0m\u001b[0;34m:\u001b[0m\u001b[0;34m\u001b[0m\u001b[0m\n",
      "\u001b[0;31mKeyboardInterrupt\u001b[0m: "
     ]
    }
   ],
   "source": [
    "###Run the program to login and grab data###\n",
    "httpd = BaseHTTPServer.HTTPServer(('localhost', port), MyHandler)\n",
    "while not allDone:\n",
    "    httpd.handle_request()"
   ]
  },
  {
   "cell_type": "code",
   "execution_count": null,
   "metadata": {
    "collapsed": true
   },
   "outputs": [],
   "source": []
  },
  {
   "cell_type": "code",
   "execution_count": null,
   "metadata": {
    "collapsed": true
   },
   "outputs": [],
   "source": []
  },
  {
   "cell_type": "code",
   "execution_count": null,
   "metadata": {
    "collapsed": true
   },
   "outputs": [],
   "source": []
  },
  {
   "cell_type": "code",
   "execution_count": null,
   "metadata": {
    "collapsed": true
   },
   "outputs": [],
   "source": []
  },
  {
   "cell_type": "code",
   "execution_count": null,
   "metadata": {
    "collapsed": true
   },
   "outputs": [],
   "source": []
  },
  {
   "cell_type": "code",
   "execution_count": null,
   "metadata": {
    "collapsed": true
   },
   "outputs": [],
   "source": []
  },
  {
   "cell_type": "code",
   "execution_count": null,
   "metadata": {
    "collapsed": true
   },
   "outputs": [],
   "source": []
  },
  {
   "cell_type": "code",
   "execution_count": null,
   "metadata": {
    "collapsed": true
   },
   "outputs": [],
   "source": []
  },
  {
   "cell_type": "code",
   "execution_count": null,
   "metadata": {
    "collapsed": true
   },
   "outputs": [],
   "source": []
  },
  {
   "cell_type": "code",
   "execution_count": null,
   "metadata": {
    "collapsed": true
   },
   "outputs": [],
   "source": []
  }
 ],
 "metadata": {
  "hide_input": false,
  "kernelspec": {
   "display_name": "Python 2",
   "language": "python",
   "name": "python2"
  },
  "language_info": {
   "codemirror_mode": {
    "name": "ipython",
    "version": 2
   },
   "file_extension": ".py",
   "mimetype": "text/x-python",
   "name": "python",
   "nbconvert_exporter": "python",
   "pygments_lexer": "ipython2",
   "version": "2.7.12"
  }
 },
 "nbformat": 4,
 "nbformat_minor": 1
}
