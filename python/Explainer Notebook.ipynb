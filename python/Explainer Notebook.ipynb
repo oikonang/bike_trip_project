{
 "cells": [
  {
   "cell_type": "markdown",
   "metadata": {
    "collapsed": true
   },
   "source": [
    "# THE BIKE TRIP PROJECT"
   ]
  },
  {
   "cell_type": "markdown",
   "metadata": {},
   "source": [
    "## Motivation"
   ]
  },
  {
   "cell_type": "markdown",
   "metadata": {},
   "source": [
    "### What is \"The bike trip project\"?"
   ]
  },
  {
   "cell_type": "markdown",
   "metadata": {},
   "source": [
    "It is a custom designed special course with the scope to depict the bike trip metrics of 2 cyclists, crossing an entire continent on bicycles, for a distance of about 3000km.  \n",
    "\n",
    "> **Starting point** : Tallinn, Estonia  \n",
    "> **Termination** :  Thessaloniki, Greece  \n",
    "\n",
    "![Scheduled_map](pics/scheduled_map.png)\n",
    "\n",
    "The course has been named \"*Visualization & Analysis of Multichannel - Self-tracking Data*\" and the supervisors of the project were \n",
    "- [Jakob Eg Larsen](http://oaklab.org/) and \n",
    "- [Sune Lehmann](https://sunelehmann.com/)   \n",
    "\n",
    "of [DTU compute](http://www.compute.dtu.dk/english) department.\n"
   ]
  },
  {
   "cell_type": "markdown",
   "metadata": {},
   "source": [
    "### Why? What was the scope of that project?"
   ]
  },
  {
   "cell_type": "markdown",
   "metadata": {},
   "source": [
    "It all started when I had to choose the last course, before starting the thesis for my master’s, in *Digital Media Engineering* at the **Technical University of Denmark**.\n",
    "At that period of time, *Andreas*, my cycling partner for the past 8 years, was trying to convince me to plan our so far longest bicycle trip in Eastern Europe; a consecutive cycling tour of more than 3.000km route in less than 30 days. \n",
    "  \n",
    "Thus, the idea for that project emerged. \n",
    "  \n",
    "Thanks to the open minded and challenging professors of my department this complex project has become a reality."
   ]
  },
  {
   "cell_type": "markdown",
   "metadata": {},
   "source": [
    "### How would you decompose the whole process?"
   ]
  },
  {
   "cell_type": "markdown",
   "metadata": {},
   "source": [
    "| The Trip | The project | The metrics|\n",
    "|----------|-------------|------------|\n",
    "| Starting point on July 5th from Tallin, Estonia and finish in Thessaloniki, Greece. The planned daily schedule was to cycle ceaselessly day by day, with fixed breaks of 2 hour lunch stops and sleeping for the night right after sunset. | During the trip, quantified-self tracker sensors have been used to measure various metrics. All this data collection has been analyzed to compare and visually quantify the trip's interesting patterns of behaviour and its impact between the two cyclists. | Self-tracking metrics has been analyzed and visualized on [this](www.thebiketripproject.com) website after the end of the trip. There also has been a live-map of our exact location that was updated once a day. Some of the metrics were: coordinates, speed, elevation, cycling distance, walking distance, active Heartrate, resting Heartrate, sleeping time, calories burnt, calories consumed, water consumption, weather.|\n"
   ]
  },
  {
   "cell_type": "markdown",
   "metadata": {},
   "source": [
    "### What was the goal for the end user's experience?"
   ]
  },
  {
   "cell_type": "markdown",
   "metadata": {},
   "source": [
    "The main goal was to quantify and visualize the trip in a way to answer all those question that everyone has when he/she hears for the first time that in our spare time, we cross countries on bike.  \n",
    "\n",
    "Particularly, there are four types of users that we needed to cover.  \n",
    "\n",
    "> The **curious** type: Questions like \"*how many km do you bike per day*\" or \"*how often do you eat?*\" or even \"*where and how much do you sleep?*\" are the ones that we tried to visualize on the website for this group. \n",
    "\n",
    "> The **pros** type: For the more bike-related audience we tried to depict the most frequently asked questions like \"*what was your elevation gain per day*\" or \"*what was your maximum and average speed*\". \n",
    "\n",
    "> The **geo-travel-freaks** type: Some friends usually ask \"*Did you pass from this city? I have heard that it is fantastic!*\" or \"*Did you bike on highways?*\"\n",
    "\n",
    "> Our **moms and beloved ones**: They usually talk to us once a day on the phone and they ask for coordinates in order to look for us if something goes wrong ;-). This is why we created the **realtime-map** feature where we updated our exact location once every evening before going to bed.  \n"
   ]
  },
  {
   "cell_type": "markdown",
   "metadata": {},
   "source": [
    "## Tracking Equipment"
   ]
  },
  {
   "cell_type": "markdown",
   "metadata": {},
   "source": [
    "### Hardware"
   ]
  },
  {
   "cell_type": "markdown",
   "metadata": {},
   "source": [
    "|Wearables|  \n",
    "|:-------:|\n",
    "\n",
    "Garmin Vivoactive HR+     |  FitBit Charge           \n",
    ":-------------------------:|:-------------------------:\n",
    "![garmin](pics/garmin.jpeg) | ![fitbit](pics/fitbit.jpeg)  "
   ]
  },
  {
   "cell_type": "markdown",
   "metadata": {},
   "source": [
    "|Mobile Devices|  \n",
    "|:------------:|\n",
    "\n",
    "LG Nexus 4                 |Motorola Nexus 6            |Sony Xperia M2 Aqua         \n",
    ":-------------------------:|:--------------------------:|:------------------:\n",
    "![nexus4](pics/nexus4.jpeg)| ![nexus6](pics/nexus6.jpeg)| ![sony](pics/sony.jpeg)"
   ]
  },
  {
   "cell_type": "markdown",
   "metadata": {},
   "source": [
    "|Power Banks and Charging Equipment|  \n",
    "|:--------------------------------:|\n",
    "\n",
    "Anker Powercore+ 26800mAh x2 |Anker Powerport +1 Quick Charge 3.0 x2                 \n",
    ":---------------------------:|:--------------------------:\n",
    "![nexus4](pics/anker.jpeg)   | ![nexus6](pics/ankerpower.jpeg)"
   ]
  },
  {
   "cell_type": "markdown",
   "metadata": {},
   "source": [
    "### Software"
   ]
  },
  {
   "cell_type": "markdown",
   "metadata": {},
   "source": [
    "|Android Native Apps|  \n",
    "|:-----------------:|\n",
    "\n",
    "Moves                      |Garmin Connect              |Fitbit                 |Strava                 |Google Fit                 |LifeSum                 | Custom app                 |\n",
    ":-------------------------:|:--------------------------:|:----------------------:|:----------------------:|:----------------------:|:----------------------:|:----------------------:\n",
    "![moves](pics/moveslogo.png)| ![garmin](pics/garminlogo.png)| ![fitbit](pics/fitbitlogo.png) | ![strava](pics/stravalogo.png)| ![google](pics/googlefitlogo.png)| ![lifesum](pics/lifesumlogo.png)| ![custom](pics/customapplogo.png)"
   ]
  },
  {
   "cell_type": "markdown",
   "metadata": {},
   "source": []
  },
  {
   "cell_type": "markdown",
   "metadata": {},
   "source": []
  },
  {
   "cell_type": "markdown",
   "metadata": {},
   "source": []
  }
 ],
 "metadata": {
  "hide_input": false,
  "kernelspec": {
   "display_name": "Python 2",
   "language": "python",
   "name": "python2"
  },
  "language_info": {
   "codemirror_mode": {
    "name": "ipython",
    "version": 2
   },
   "file_extension": ".py",
   "mimetype": "text/x-python",
   "name": "python",
   "nbconvert_exporter": "python",
   "pygments_lexer": "ipython2",
   "version": "2.7.12"
  }
 },
 "nbformat": 4,
 "nbformat_minor": 1
}
