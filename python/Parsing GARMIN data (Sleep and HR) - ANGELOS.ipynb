{
 "cells": [
  {
   "cell_type": "markdown",
   "metadata": {},
   "source": [
    "## Load Libraries"
   ]
  },
  {
   "cell_type": "code",
   "execution_count": 1,
   "metadata": {
    "collapsed": true
   },
   "outputs": [],
   "source": [
    "import pandas as pd\n",
    "import numpy as np"
   ]
  },
  {
   "cell_type": "markdown",
   "metadata": {},
   "source": [
    "# Load sleep csv\n"
   ]
  },
  {
   "cell_type": "code",
   "execution_count": 2,
   "metadata": {
    "collapsed": false
   },
   "outputs": [
    {
     "data": {
      "text/html": [
       "<div>\n",
       "<table border=\"1\" class=\"dataframe\">\n",
       "  <thead>\n",
       "    <tr style=\"text-align: right;\">\n",
       "      <th></th>\n",
       "      <th></th>\n",
       "      <th>Sleep Time</th>\n",
       "    </tr>\n",
       "  </thead>\n",
       "  <tbody>\n",
       "    <tr>\n",
       "      <th>NaN</th>\n",
       "      <th>Hrs</th>\n",
       "      <td>Hrs</td>\n",
       "    </tr>\n",
       "    <tr>\n",
       "      <th>Apr 22</th>\n",
       "      <th>8.1</th>\n",
       "      <td>8:08 hrs</td>\n",
       "    </tr>\n",
       "    <tr>\n",
       "      <th>Apr 23</th>\n",
       "      <th>11.4</th>\n",
       "      <td>11:24 hrs</td>\n",
       "    </tr>\n",
       "    <tr>\n",
       "      <th>Apr 24</th>\n",
       "      <th>8.5</th>\n",
       "      <td>8:29 hrs</td>\n",
       "    </tr>\n",
       "    <tr>\n",
       "      <th>Apr 25</th>\n",
       "      <th>8.6</th>\n",
       "      <td>8:37 hrs</td>\n",
       "    </tr>\n",
       "  </tbody>\n",
       "</table>\n",
       "</div>"
      ],
      "text/plain": [
       "            Sleep Time\n",
       "NaN    Hrs         Hrs\n",
       "Apr 22 8.1    8:08 hrs\n",
       "Apr 23 11.4  11:24 hrs\n",
       "Apr 24 8.5    8:29 hrs\n",
       "Apr 25 8.6    8:37 hrs"
      ]
     },
     "execution_count": 2,
     "metadata": {},
     "output_type": "execute_result"
    }
   ],
   "source": [
    "# Load it into a Dataframe using pandas\n",
    "path = 'python_data/garmin_sleep.csv'\n",
    "df = pd.read_csv(path)\n",
    "df.head()"
   ]
  },
  {
   "cell_type": "markdown",
   "metadata": {},
   "source": [
    "## Useful functions"
   ]
  },
  {
   "cell_type": "code",
   "execution_count": 3,
   "metadata": {
    "collapsed": true
   },
   "outputs": [],
   "source": [
    "# Modify the date to look like the rest\n",
    "def dayTransformer(s):\n",
    "    month = s.split(' ')[0]\n",
    "    day = s.split(' ')[1]\n",
    "    year = '2017'\n",
    "    \n",
    "    if month=='Jan':\n",
    "        month='01'\n",
    "    elif month=='Feb':\n",
    "        month='02'\n",
    "    elif month=='Mar':\n",
    "        month='03'\n",
    "    elif month=='Apr':\n",
    "        month='04'\n",
    "    elif month=='May':\n",
    "        month='05'\n",
    "    elif month=='Jun':\n",
    "        month='06'\n",
    "    elif month=='Jul':\n",
    "        month='07'\n",
    "    elif month=='Aug':\n",
    "        month='08'\n",
    "    elif month=='Sep':\n",
    "        month='09'\n",
    "    elif month=='Oct':\n",
    "        month='10'\n",
    "    elif month=='Nov':\n",
    "        month='11'\n",
    "    elif month=='Dec':\n",
    "        month='12'\n",
    "    \n",
    "    if len(day)<2:\n",
    "        day = '0'+day\n",
    "        \n",
    "    return year+'-'+month+'-'+day"
   ]
  },
  {
   "cell_type": "code",
   "execution_count": 4,
   "metadata": {
    "collapsed": true
   },
   "outputs": [],
   "source": [
    "# Remove 'hrs' from sleep_duration\n",
    "def removeItem(s):\n",
    "    hrs = s.split(' ')[0]\n",
    "    hr = hrs.split(':')[0]\n",
    "    mm = hrs.split(':')[1]\n",
    "    if len(hr)<2:\n",
    "        hr = '0'+hr\n",
    "    return hr+':'+mm"
   ]
  },
  {
   "cell_type": "code",
   "execution_count": 5,
   "metadata": {
    "collapsed": true
   },
   "outputs": [],
   "source": [
    "# Transform hh:mm to minutes\n",
    "def hoursToMins(s):\n",
    "    hr = int(s.split(':')[0])\n",
    "    mm = int(s.split(':')[1])\n",
    "    \n",
    "    return str(hr*60 + mm)"
   ]
  },
  {
   "cell_type": "markdown",
   "metadata": {},
   "source": [
    "### Modify sleep data"
   ]
  },
  {
   "cell_type": "code",
   "execution_count": 6,
   "metadata": {
    "collapsed": false,
    "scrolled": true
   },
   "outputs": [],
   "source": [
    "# Drop first line\n",
    "df = df.iloc[1:].reset_index()\n",
    "\n",
    "# Rename the column\n",
    "df.rename(columns={'level_1': 'sleep_min','level_0': 'day','Sleep Time': 'sleep_duration' }, inplace=True)\n",
    "\n",
    "# Transform day to (YYYY-MM-DD) format\n",
    "df['day'] = df['day'].apply(lambda x: dayTransformer(x))\n",
    "\n",
    "# Remove hrs string and add a zero digit on hours\n",
    "df['sleep_duration']=df['sleep_duration'].apply(lambda x: removeItem(x))\n",
    "\n",
    "# Create a minutes column that calculates the total number of minutes\n",
    "df['sleep_min']=df['sleep_duration'].apply(lambda x: hoursToMins(x))"
   ]
  },
  {
   "cell_type": "code",
   "execution_count": 7,
   "metadata": {
    "collapsed": false
   },
   "outputs": [
    {
     "data": {
      "text/html": [
       "<div>\n",
       "<table border=\"1\" class=\"dataframe\">\n",
       "  <thead>\n",
       "    <tr style=\"text-align: right;\">\n",
       "      <th></th>\n",
       "      <th>day</th>\n",
       "      <th>sleep_min</th>\n",
       "      <th>sleep_duration</th>\n",
       "    </tr>\n",
       "  </thead>\n",
       "  <tbody>\n",
       "    <tr>\n",
       "      <th>0</th>\n",
       "      <td>2017-04-22</td>\n",
       "      <td>488</td>\n",
       "      <td>08:08</td>\n",
       "    </tr>\n",
       "    <tr>\n",
       "      <th>1</th>\n",
       "      <td>2017-04-23</td>\n",
       "      <td>684</td>\n",
       "      <td>11:24</td>\n",
       "    </tr>\n",
       "    <tr>\n",
       "      <th>2</th>\n",
       "      <td>2017-04-24</td>\n",
       "      <td>509</td>\n",
       "      <td>08:29</td>\n",
       "    </tr>\n",
       "    <tr>\n",
       "      <th>3</th>\n",
       "      <td>2017-04-25</td>\n",
       "      <td>517</td>\n",
       "      <td>08:37</td>\n",
       "    </tr>\n",
       "    <tr>\n",
       "      <th>4</th>\n",
       "      <td>2017-04-26</td>\n",
       "      <td>497</td>\n",
       "      <td>08:17</td>\n",
       "    </tr>\n",
       "    <tr>\n",
       "      <th>5</th>\n",
       "      <td>2017-04-27</td>\n",
       "      <td>455</td>\n",
       "      <td>07:35</td>\n",
       "    </tr>\n",
       "    <tr>\n",
       "      <th>6</th>\n",
       "      <td>2017-04-28</td>\n",
       "      <td>645</td>\n",
       "      <td>10:45</td>\n",
       "    </tr>\n",
       "    <tr>\n",
       "      <th>7</th>\n",
       "      <td>2017-04-29</td>\n",
       "      <td>672</td>\n",
       "      <td>11:12</td>\n",
       "    </tr>\n",
       "    <tr>\n",
       "      <th>8</th>\n",
       "      <td>2017-04-30</td>\n",
       "      <td>683</td>\n",
       "      <td>11:23</td>\n",
       "    </tr>\n",
       "    <tr>\n",
       "      <th>9</th>\n",
       "      <td>2017-05-01</td>\n",
       "      <td>627</td>\n",
       "      <td>10:27</td>\n",
       "    </tr>\n",
       "    <tr>\n",
       "      <th>10</th>\n",
       "      <td>2017-05-02</td>\n",
       "      <td>740</td>\n",
       "      <td>12:20</td>\n",
       "    </tr>\n",
       "    <tr>\n",
       "      <th>11</th>\n",
       "      <td>2017-05-03</td>\n",
       "      <td>651</td>\n",
       "      <td>10:51</td>\n",
       "    </tr>\n",
       "    <tr>\n",
       "      <th>12</th>\n",
       "      <td>2017-05-04</td>\n",
       "      <td>661</td>\n",
       "      <td>11:01</td>\n",
       "    </tr>\n",
       "    <tr>\n",
       "      <th>13</th>\n",
       "      <td>2017-05-05</td>\n",
       "      <td>427</td>\n",
       "      <td>07:07</td>\n",
       "    </tr>\n",
       "    <tr>\n",
       "      <th>14</th>\n",
       "      <td>2017-05-06</td>\n",
       "      <td>561</td>\n",
       "      <td>09:21</td>\n",
       "    </tr>\n",
       "    <tr>\n",
       "      <th>15</th>\n",
       "      <td>2017-05-07</td>\n",
       "      <td>527</td>\n",
       "      <td>08:47</td>\n",
       "    </tr>\n",
       "    <tr>\n",
       "      <th>16</th>\n",
       "      <td>2017-05-08</td>\n",
       "      <td>472</td>\n",
       "      <td>07:52</td>\n",
       "    </tr>\n",
       "    <tr>\n",
       "      <th>17</th>\n",
       "      <td>2017-05-09</td>\n",
       "      <td>470</td>\n",
       "      <td>07:50</td>\n",
       "    </tr>\n",
       "    <tr>\n",
       "      <th>18</th>\n",
       "      <td>2017-05-10</td>\n",
       "      <td>475</td>\n",
       "      <td>07:55</td>\n",
       "    </tr>\n",
       "    <tr>\n",
       "      <th>19</th>\n",
       "      <td>2017-05-11</td>\n",
       "      <td>867</td>\n",
       "      <td>14:27</td>\n",
       "    </tr>\n",
       "    <tr>\n",
       "      <th>20</th>\n",
       "      <td>2017-05-13</td>\n",
       "      <td>673</td>\n",
       "      <td>11:13</td>\n",
       "    </tr>\n",
       "    <tr>\n",
       "      <th>21</th>\n",
       "      <td>2017-05-14</td>\n",
       "      <td>601</td>\n",
       "      <td>10:01</td>\n",
       "    </tr>\n",
       "    <tr>\n",
       "      <th>22</th>\n",
       "      <td>2017-05-15</td>\n",
       "      <td>627</td>\n",
       "      <td>10:27</td>\n",
       "    </tr>\n",
       "    <tr>\n",
       "      <th>23</th>\n",
       "      <td>2017-05-16</td>\n",
       "      <td>814</td>\n",
       "      <td>13:34</td>\n",
       "    </tr>\n",
       "    <tr>\n",
       "      <th>24</th>\n",
       "      <td>2017-05-17</td>\n",
       "      <td>797</td>\n",
       "      <td>13:17</td>\n",
       "    </tr>\n",
       "    <tr>\n",
       "      <th>25</th>\n",
       "      <td>2017-05-18</td>\n",
       "      <td>350</td>\n",
       "      <td>05:50</td>\n",
       "    </tr>\n",
       "    <tr>\n",
       "      <th>26</th>\n",
       "      <td>2017-05-21</td>\n",
       "      <td>504</td>\n",
       "      <td>08:24</td>\n",
       "    </tr>\n",
       "  </tbody>\n",
       "</table>\n",
       "</div>"
      ],
      "text/plain": [
       "           day sleep_min sleep_duration\n",
       "0   2017-04-22       488          08:08\n",
       "1   2017-04-23       684          11:24\n",
       "2   2017-04-24       509          08:29\n",
       "3   2017-04-25       517          08:37\n",
       "4   2017-04-26       497          08:17\n",
       "5   2017-04-27       455          07:35\n",
       "6   2017-04-28       645          10:45\n",
       "7   2017-04-29       672          11:12\n",
       "8   2017-04-30       683          11:23\n",
       "9   2017-05-01       627          10:27\n",
       "10  2017-05-02       740          12:20\n",
       "11  2017-05-03       651          10:51\n",
       "12  2017-05-04       661          11:01\n",
       "13  2017-05-05       427          07:07\n",
       "14  2017-05-06       561          09:21\n",
       "15  2017-05-07       527          08:47\n",
       "16  2017-05-08       472          07:52\n",
       "17  2017-05-09       470          07:50\n",
       "18  2017-05-10       475          07:55\n",
       "19  2017-05-11       867          14:27\n",
       "20  2017-05-13       673          11:13\n",
       "21  2017-05-14       601          10:01\n",
       "22  2017-05-15       627          10:27\n",
       "23  2017-05-16       814          13:34\n",
       "24  2017-05-17       797          13:17\n",
       "25  2017-05-18       350          05:50\n",
       "26  2017-05-21       504          08:24"
      ]
     },
     "execution_count": 7,
     "metadata": {},
     "output_type": "execute_result"
    }
   ],
   "source": [
    "df"
   ]
  },
  {
   "cell_type": "markdown",
   "metadata": {},
   "source": [
    "# Load HR csv"
   ]
  },
  {
   "cell_type": "code",
   "execution_count": 8,
   "metadata": {
    "collapsed": false
   },
   "outputs": [
    {
     "data": {
      "text/html": [
       "<div>\n",
       "<table border=\"1\" class=\"dataframe\">\n",
       "  <thead>\n",
       "    <tr style=\"text-align: right;\">\n",
       "      <th></th>\n",
       "      <th>Resting Heart Rate</th>\n",
       "    </tr>\n",
       "  </thead>\n",
       "  <tbody>\n",
       "    <tr>\n",
       "      <th>NaN</th>\n",
       "      <td>bpm</td>\n",
       "    </tr>\n",
       "    <tr>\n",
       "      <th>Apr 30</th>\n",
       "      <td>71</td>\n",
       "    </tr>\n",
       "    <tr>\n",
       "      <th>May 7</th>\n",
       "      <td>68</td>\n",
       "    </tr>\n",
       "    <tr>\n",
       "      <th>May 14</th>\n",
       "      <td>73</td>\n",
       "    </tr>\n",
       "  </tbody>\n",
       "</table>\n",
       "</div>"
      ],
      "text/plain": [
       "       Resting Heart Rate\n",
       "NaN                   bpm\n",
       "Apr 30                 71\n",
       "May 7                  68\n",
       "May 14                 73"
      ]
     },
     "execution_count": 8,
     "metadata": {},
     "output_type": "execute_result"
    }
   ],
   "source": [
    "# Load it into a Dataframe using pandas\n",
    "path_2 = 'python_data/garmin_HR.csv'\n",
    "df_2 = pd.read_csv(path_2)\n",
    "df_2.head()"
   ]
  },
  {
   "cell_type": "markdown",
   "metadata": {},
   "source": [
    "### Modify HR data"
   ]
  },
  {
   "cell_type": "code",
   "execution_count": 9,
   "metadata": {
    "collapsed": true
   },
   "outputs": [],
   "source": [
    "# Drop first line\n",
    "df_2 = df_2.iloc[1:].reset_index()\n",
    "\n",
    "# Rename the columns\n",
    "df_2.rename(columns={'index': 'day','Resting Heart Rate': 'rest_HR',}, inplace=True)\n",
    "\n",
    "# Transform day to (YYYY-MM-DD) format\n",
    "df_2['day'] = df_2['day'].apply(lambda x: dayTransformer(x))"
   ]
  },
  {
   "cell_type": "code",
   "execution_count": 10,
   "metadata": {
    "collapsed": false
   },
   "outputs": [
    {
     "data": {
      "text/html": [
       "<div>\n",
       "<table border=\"1\" class=\"dataframe\">\n",
       "  <thead>\n",
       "    <tr style=\"text-align: right;\">\n",
       "      <th></th>\n",
       "      <th>day</th>\n",
       "      <th>rest_HR</th>\n",
       "    </tr>\n",
       "  </thead>\n",
       "  <tbody>\n",
       "    <tr>\n",
       "      <th>0</th>\n",
       "      <td>2017-04-30</td>\n",
       "      <td>71</td>\n",
       "    </tr>\n",
       "    <tr>\n",
       "      <th>1</th>\n",
       "      <td>2017-05-07</td>\n",
       "      <td>68</td>\n",
       "    </tr>\n",
       "    <tr>\n",
       "      <th>2</th>\n",
       "      <td>2017-05-14</td>\n",
       "      <td>73</td>\n",
       "    </tr>\n",
       "  </tbody>\n",
       "</table>\n",
       "</div>"
      ],
      "text/plain": [
       "          day rest_HR\n",
       "0  2017-04-30      71\n",
       "1  2017-05-07      68\n",
       "2  2017-05-14      73"
      ]
     },
     "execution_count": 10,
     "metadata": {},
     "output_type": "execute_result"
    }
   ],
   "source": [
    "df_2"
   ]
  },
  {
   "cell_type": "markdown",
   "metadata": {},
   "source": [
    "# Discussion"
   ]
  },
  {
   "cell_type": "markdown",
   "metadata": {},
   "source": [
    "The idea from now on is to:\n",
    "* Rename each column (except from day) to blabla_angelos\n",
    "* Merge HR with sleep dataframes\n",
    "* Then merge Andreas and Angelos dataframe to a single CSV with all data included"
   ]
  },
  {
   "cell_type": "code",
   "execution_count": null,
   "metadata": {
    "collapsed": true
   },
   "outputs": [],
   "source": []
  }
 ],
 "metadata": {
  "hide_input": false,
  "kernelspec": {
   "display_name": "Python 2",
   "language": "python",
   "name": "python2"
  },
  "language_info": {
   "codemirror_mode": {
    "name": "ipython",
    "version": 2
   },
   "file_extension": ".py",
   "mimetype": "text/x-python",
   "name": "python",
   "nbconvert_exporter": "python",
   "pygments_lexer": "ipython2",
   "version": "2.7.12"
  }
 },
 "nbformat": 4,
 "nbformat_minor": 1
}
