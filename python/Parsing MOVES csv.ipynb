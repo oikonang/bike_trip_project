{
 "cells": [
  {
   "cell_type": "markdown",
   "metadata": {},
   "source": [
    "## Load Libraries"
   ]
  },
  {
   "cell_type": "code",
   "execution_count": 63,
   "metadata": {
    "collapsed": true
   },
   "outputs": [],
   "source": [
    "import pandas as pd\n",
    "import numpy as np\n",
    "from pandas import Timestamp\n",
    "import os\n",
    "from datetime import datetime, timedelta"
   ]
  },
  {
   "cell_type": "markdown",
   "metadata": {},
   "source": [
    "### Keep only the days of the trip inside the directory"
   ]
  },
  {
   "cell_type": "code",
   "execution_count": 64,
   "metadata": {
    "collapsed": false
   },
   "outputs": [],
   "source": [
    "# Read the directories with the data and save file_names in two list\n",
    "path_to_places = '../data/moves/moves_export/csv/daily/places/'\n",
    "path_to_summary = '../data/moves/moves_export/csv/daily/summary/'\n",
    "\n",
    "csv_files_places = [single_csv for single_csv in os.listdir(path_to_places) if single_csv.endswith('.csv')]\n",
    "csv_files_summary = [single_csv for single_csv in os.listdir(path_to_summary) if single_csv.endswith('.csv')]"
   ]
  },
  {
   "cell_type": "code",
   "execution_count": 65,
   "metadata": {
    "collapsed": false,
    "scrolled": true
   },
   "outputs": [
    {
     "name": "stdout",
     "output_type": "stream",
     "text": [
      "['places_20170321.csv', 'places_20170322.csv', 'places_20170323.csv', 'places_20170324.csv', 'places_20170325.csv']\n",
      "['summary_20170321.csv', 'summary_20170322.csv', 'summary_20170323.csv', 'summary_20170324.csv', 'summary_20170325.csv']\n"
     ]
    }
   ],
   "source": [
    "# Check if filenames are parsed correctly\n",
    "print csv_files_places[:5]\n",
    "print csv_files_summary[:5]"
   ]
  },
  {
   "cell_type": "markdown",
   "metadata": {},
   "source": [
    "## Usefull Functions"
   ]
  },
  {
   "cell_type": "code",
   "execution_count": 66,
   "metadata": {
    "collapsed": false
   },
   "outputs": [],
   "source": [
    "# Adds a number to index\n",
    "def iterNo(d):\n",
    "    return d + 1"
   ]
  },
  {
   "cell_type": "code",
   "execution_count": 82,
   "metadata": {
    "collapsed": true
   },
   "outputs": [],
   "source": [
    "# Transforms seconds to hours\n",
    "def secToHours(d):\n",
    "    # Create the rule\n",
    "    seconds = d\n",
    "    minutes, seconds = divmod(seconds, 60)\n",
    "    hours, minutes = divmod(minutes, 60)\n",
    "    \n",
    "    #Convert all to string\n",
    "    seconds = str(seconds)\n",
    "    minutes = str(minutes)\n",
    "    hours = str(hours)\n",
    "    \n",
    "    #Add 0(zeros) for single digit numbers\n",
    "    if len(seconds)==1:\n",
    "        seconds = '0'+seconds\n",
    "    if len(minutes)==1:\n",
    "        minutes = '0'+minutes\n",
    "    if len(hours)==1:\n",
    "        hours = '0'+hours\n",
    "    return hours+':'+minutes+':'+seconds"
   ]
  },
  {
   "cell_type": "code",
   "execution_count": 90,
   "metadata": {
    "collapsed": true
   },
   "outputs": [],
   "source": [
    "# Create function that calculates km and seconds to km/h average\n",
    "def avgSpeedConverter(f,d):\n",
    "    # Define variables\n",
    "    km = f\n",
    "    seconds = d\n",
    "    \n",
    "    # Convert km to meters\n",
    "    meters = km*1000\n",
    "    \n",
    "    # Calculate speed\n",
    "    avg_speed = (meters/seconds) * 3.6\n",
    "    return avg_speed"
   ]
  },
  {
   "cell_type": "code",
   "execution_count": 67,
   "metadata": {
    "collapsed": true
   },
   "outputs": [],
   "source": [
    "# Fix year to Date column\n",
    "def yearFixer(s):\n",
    "    main_part = s[:-2]\n",
    "    year_before = s.split('/')[2]\n",
    "    year_after = str(20) + year_before\n",
    "    return main_part+year_after"
   ]
  },
  {
   "cell_type": "code",
   "execution_count": 68,
   "metadata": {
    "collapsed": true
   },
   "outputs": [],
   "source": [
    "# Create a good format for the Date column\n",
    "def dateConverter(s):\n",
    "    # Set date formats\n",
    "    time_format = \"%d/%m/%Y\"\n",
    "\n",
    "    # Convert from str to datetime\n",
    "    converted = datetime.strptime(s,time_format)\n",
    "    \n",
    "    return converted"
   ]
  },
  {
   "cell_type": "markdown",
   "metadata": {},
   "source": [
    "## Create a single CSV for each segment"
   ]
  },
  {
   "cell_type": "markdown",
   "metadata": {},
   "source": [
    "### Places"
   ]
  },
  {
   "cell_type": "code",
   "execution_count": 69,
   "metadata": {
    "collapsed": false
   },
   "outputs": [],
   "source": [
    "# Places df\n",
    "df_places = pd.DataFrame()\n",
    "for file_name in csv_files_places:\n",
    "    df_tmp = pd.read_csv(path_to_places+file_name)\n",
    "    df_places = pd.concat([df_places, df_tmp])\n",
    "\n",
    "# Drop last two columns\n",
    "df_places = df_places.drop(['Category', 'Link'],axis = 1).reset_index()   \n",
    "    \n",
    "# Change str and end time to datetime type\n",
    "df_places['Start'] = pd.to_datetime(df_places['Start']) \n",
    "df_places['End'] = pd.to_datetime(df_places['End'])\n",
    "df_places['Date'] = df_places['Date'].apply(lambda x: yearFixer(x))\n",
    "df_places['Date'] = df_places['Date'].apply(lambda x: dateConverter(x))\n",
    "\n",
    "# Rename index column to iter_no like STRAVA\n",
    "df_places.rename(columns={'index': 'iter_no'}, inplace=True)\n",
    "df_places['iter_no'] = df_places['iter_no'].apply(lambda x: iterNo(x))\n",
    "\n",
    "# Create day_no like STRAVA\n",
    "days = list(set(df_places['Date']))\n",
    "days.sort()\n",
    "day_no = list()\n",
    "for index,day in enumerate(days):\n",
    "    for dfday in df_places['Date']:\n",
    "        if dfday == day:\n",
    "            day_no.append(index+1)\n",
    "\n",
    "df_places['day_no'] = pd.Series(day_no).values"
   ]
  },
  {
   "cell_type": "code",
   "execution_count": 70,
   "metadata": {
    "collapsed": false
   },
   "outputs": [
    {
     "data": {
      "text/html": [
       "<div>\n",
       "<table border=\"1\" class=\"dataframe\">\n",
       "  <thead>\n",
       "    <tr style=\"text-align: right;\">\n",
       "      <th></th>\n",
       "      <th>iter_no</th>\n",
       "      <th>Date</th>\n",
       "      <th>Name</th>\n",
       "      <th>Start</th>\n",
       "      <th>End</th>\n",
       "      <th>Duration</th>\n",
       "      <th>Latitude</th>\n",
       "      <th>Longitude</th>\n",
       "      <th>day_no</th>\n",
       "    </tr>\n",
       "  </thead>\n",
       "  <tbody>\n",
       "    <tr>\n",
       "      <th>0</th>\n",
       "      <td>1</td>\n",
       "      <td>2017-03-21</td>\n",
       "      <td>DTU Bibliotek</td>\n",
       "      <td>2017-03-21 13:02:45</td>\n",
       "      <td>2017-03-21 16:16:43</td>\n",
       "      <td>11638</td>\n",
       "      <td>55.786990</td>\n",
       "      <td>12.523290</td>\n",
       "      <td>1</td>\n",
       "    </tr>\n",
       "    <tr>\n",
       "      <th>1</th>\n",
       "      <td>2</td>\n",
       "      <td>2017-03-21</td>\n",
       "      <td>Lyngby Svømmehal</td>\n",
       "      <td>2017-03-21 16:23:42</td>\n",
       "      <td>2017-03-21 17:42:07</td>\n",
       "      <td>4705</td>\n",
       "      <td>55.781602</td>\n",
       "      <td>12.507931</td>\n",
       "      <td>1</td>\n",
       "    </tr>\n",
       "    <tr>\n",
       "      <th>2</th>\n",
       "      <td>3</td>\n",
       "      <td>2017-03-21</td>\n",
       "      <td>Place in Kongens Lyngby</td>\n",
       "      <td>2017-03-21 17:49:24</td>\n",
       "      <td>2017-03-21 18:21:05</td>\n",
       "      <td>1901</td>\n",
       "      <td>55.786990</td>\n",
       "      <td>12.523290</td>\n",
       "      <td>1</td>\n",
       "    </tr>\n",
       "    <tr>\n",
       "      <th>3</th>\n",
       "      <td>4</td>\n",
       "      <td>2017-03-21</td>\n",
       "      <td>Place in Kongens Lyngby</td>\n",
       "      <td>2017-03-21 18:21:05</td>\n",
       "      <td>2017-03-21 18:31:17</td>\n",
       "      <td>612</td>\n",
       "      <td>55.787481</td>\n",
       "      <td>12.526896</td>\n",
       "      <td>1</td>\n",
       "    </tr>\n",
       "    <tr>\n",
       "      <th>4</th>\n",
       "      <td>5</td>\n",
       "      <td>2017-03-21</td>\n",
       "      <td>Home</td>\n",
       "      <td>2017-03-21 19:07:06</td>\n",
       "      <td>2017-03-21 23:00:00</td>\n",
       "      <td>13974</td>\n",
       "      <td>55.674390</td>\n",
       "      <td>12.591820</td>\n",
       "      <td>1</td>\n",
       "    </tr>\n",
       "    <tr>\n",
       "      <th>5</th>\n",
       "      <td>1</td>\n",
       "      <td>2017-03-22</td>\n",
       "      <td>Home</td>\n",
       "      <td>2017-03-21 23:00:00</td>\n",
       "      <td>2017-03-22 07:42:31</td>\n",
       "      <td>31351</td>\n",
       "      <td>55.674390</td>\n",
       "      <td>12.591820</td>\n",
       "      <td>2</td>\n",
       "    </tr>\n",
       "    <tr>\n",
       "      <th>6</th>\n",
       "      <td>2</td>\n",
       "      <td>2017-03-22</td>\n",
       "      <td>Dtu 324</td>\n",
       "      <td>2017-03-22 08:29:52</td>\n",
       "      <td>2017-03-22 20:07:48</td>\n",
       "      <td>41876</td>\n",
       "      <td>55.783588</td>\n",
       "      <td>12.518219</td>\n",
       "      <td>2</td>\n",
       "    </tr>\n",
       "    <tr>\n",
       "      <th>7</th>\n",
       "      <td>3</td>\n",
       "      <td>2017-03-22</td>\n",
       "      <td>Place in Kongens Lyngby</td>\n",
       "      <td>2017-03-22 20:20:32</td>\n",
       "      <td>2017-03-22 20:30:49</td>\n",
       "      <td>617</td>\n",
       "      <td>55.786867</td>\n",
       "      <td>12.528193</td>\n",
       "      <td>2</td>\n",
       "    </tr>\n",
       "    <tr>\n",
       "      <th>8</th>\n",
       "      <td>4</td>\n",
       "      <td>2017-03-22</td>\n",
       "      <td>Place in Christianshavn, København</td>\n",
       "      <td>2017-03-22 21:08:28</td>\n",
       "      <td>2017-03-22 23:00:00</td>\n",
       "      <td>6692</td>\n",
       "      <td>55.674390</td>\n",
       "      <td>12.591820</td>\n",
       "      <td>2</td>\n",
       "    </tr>\n",
       "    <tr>\n",
       "      <th>9</th>\n",
       "      <td>1</td>\n",
       "      <td>2017-03-23</td>\n",
       "      <td>Place in Christianshavn, København</td>\n",
       "      <td>2017-03-22 23:00:00</td>\n",
       "      <td>2017-03-23 07:12:15</td>\n",
       "      <td>29535</td>\n",
       "      <td>55.674390</td>\n",
       "      <td>12.591820</td>\n",
       "      <td>3</td>\n",
       "    </tr>\n",
       "  </tbody>\n",
       "</table>\n",
       "</div>"
      ],
      "text/plain": [
       "   iter_no       Date                                Name               Start  \\\n",
       "0        1 2017-03-21                       DTU Bibliotek 2017-03-21 13:02:45   \n",
       "1        2 2017-03-21                    Lyngby Svømmehal 2017-03-21 16:23:42   \n",
       "2        3 2017-03-21             Place in Kongens Lyngby 2017-03-21 17:49:24   \n",
       "3        4 2017-03-21             Place in Kongens Lyngby 2017-03-21 18:21:05   \n",
       "4        5 2017-03-21                                Home 2017-03-21 19:07:06   \n",
       "5        1 2017-03-22                                Home 2017-03-21 23:00:00   \n",
       "6        2 2017-03-22                             Dtu 324 2017-03-22 08:29:52   \n",
       "7        3 2017-03-22             Place in Kongens Lyngby 2017-03-22 20:20:32   \n",
       "8        4 2017-03-22  Place in Christianshavn, København 2017-03-22 21:08:28   \n",
       "9        1 2017-03-23  Place in Christianshavn, København 2017-03-22 23:00:00   \n",
       "\n",
       "                  End  Duration   Latitude  Longitude  day_no  \n",
       "0 2017-03-21 16:16:43     11638  55.786990  12.523290       1  \n",
       "1 2017-03-21 17:42:07      4705  55.781602  12.507931       1  \n",
       "2 2017-03-21 18:21:05      1901  55.786990  12.523290       1  \n",
       "3 2017-03-21 18:31:17       612  55.787481  12.526896       1  \n",
       "4 2017-03-21 23:00:00     13974  55.674390  12.591820       1  \n",
       "5 2017-03-22 07:42:31     31351  55.674390  12.591820       2  \n",
       "6 2017-03-22 20:07:48     41876  55.783588  12.518219       2  \n",
       "7 2017-03-22 20:30:49       617  55.786867  12.528193       2  \n",
       "8 2017-03-22 23:00:00      6692  55.674390  12.591820       2  \n",
       "9 2017-03-23 07:12:15     29535  55.674390  12.591820       3  "
      ]
     },
     "execution_count": 70,
     "metadata": {},
     "output_type": "execute_result"
    }
   ],
   "source": [
    "# Check if columns are correct\n",
    "df_places.head(10)"
   ]
  },
  {
   "cell_type": "markdown",
   "metadata": {},
   "source": [
    "### Summary"
   ]
  },
  {
   "cell_type": "code",
   "execution_count": 71,
   "metadata": {
    "collapsed": false
   },
   "outputs": [
    {
     "data": {
      "text/html": [
       "<div>\n",
       "<table border=\"1\" class=\"dataframe\">\n",
       "  <thead>\n",
       "    <tr style=\"text-align: right;\">\n",
       "      <th></th>\n",
       "      <th>iter_no</th>\n",
       "      <th>Date</th>\n",
       "      <th>Activity</th>\n",
       "      <th>Duration</th>\n",
       "      <th>Distance</th>\n",
       "      <th>Steps</th>\n",
       "      <th>Calories</th>\n",
       "    </tr>\n",
       "  </thead>\n",
       "  <tbody>\n",
       "    <tr>\n",
       "      <th>0</th>\n",
       "      <td>1</td>\n",
       "      <td>2017-03-21</td>\n",
       "      <td>walking</td>\n",
       "      <td>329</td>\n",
       "      <td>0.263</td>\n",
       "      <td>527</td>\n",
       "      <td>17</td>\n",
       "    </tr>\n",
       "    <tr>\n",
       "      <th>1</th>\n",
       "      <td>2</td>\n",
       "      <td>2017-03-21</td>\n",
       "      <td>cycling</td>\n",
       "      <td>1263</td>\n",
       "      <td>4.377</td>\n",
       "      <td>0</td>\n",
       "      <td>126</td>\n",
       "    </tr>\n",
       "    <tr>\n",
       "      <th>2</th>\n",
       "      <td>3</td>\n",
       "      <td>2017-03-21</td>\n",
       "      <td>transport</td>\n",
       "      <td>1740</td>\n",
       "      <td>14.627</td>\n",
       "      <td>0</td>\n",
       "      <td>0</td>\n",
       "    </tr>\n",
       "    <tr>\n",
       "      <th>3</th>\n",
       "      <td>1</td>\n",
       "      <td>2017-03-22</td>\n",
       "      <td>walking</td>\n",
       "      <td>1725</td>\n",
       "      <td>2.035</td>\n",
       "      <td>2814</td>\n",
       "      <td>128</td>\n",
       "    </tr>\n",
       "    <tr>\n",
       "      <th>4</th>\n",
       "      <td>2</td>\n",
       "      <td>2017-03-22</td>\n",
       "      <td>transport</td>\n",
       "      <td>4590</td>\n",
       "      <td>32.249</td>\n",
       "      <td>0</td>\n",
       "      <td>0</td>\n",
       "    </tr>\n",
       "    <tr>\n",
       "      <th>5</th>\n",
       "      <td>1</td>\n",
       "      <td>2017-03-23</td>\n",
       "      <td>walking</td>\n",
       "      <td>1476</td>\n",
       "      <td>1.537</td>\n",
       "      <td>2584</td>\n",
       "      <td>97</td>\n",
       "    </tr>\n",
       "    <tr>\n",
       "      <th>6</th>\n",
       "      <td>2</td>\n",
       "      <td>2017-03-23</td>\n",
       "      <td>cycling</td>\n",
       "      <td>2727</td>\n",
       "      <td>7.744</td>\n",
       "      <td>0</td>\n",
       "      <td>229</td>\n",
       "    </tr>\n",
       "    <tr>\n",
       "      <th>7</th>\n",
       "      <td>1</td>\n",
       "      <td>2017-03-24</td>\n",
       "      <td>walking</td>\n",
       "      <td>1861</td>\n",
       "      <td>1.633</td>\n",
       "      <td>2892</td>\n",
       "      <td>103</td>\n",
       "    </tr>\n",
       "    <tr>\n",
       "      <th>8</th>\n",
       "      <td>2</td>\n",
       "      <td>2017-03-24</td>\n",
       "      <td>cycling</td>\n",
       "      <td>1020</td>\n",
       "      <td>3.937</td>\n",
       "      <td>0</td>\n",
       "      <td>112</td>\n",
       "    </tr>\n",
       "    <tr>\n",
       "      <th>9</th>\n",
       "      <td>3</td>\n",
       "      <td>2017-03-24</td>\n",
       "      <td>transport</td>\n",
       "      <td>2731</td>\n",
       "      <td>15.763</td>\n",
       "      <td>0</td>\n",
       "      <td>0</td>\n",
       "    </tr>\n",
       "  </tbody>\n",
       "</table>\n",
       "</div>"
      ],
      "text/plain": [
       "   iter_no       Date   Activity  Duration  Distance  Steps  Calories\n",
       "0        1 2017-03-21    walking       329     0.263    527        17\n",
       "1        2 2017-03-21    cycling      1263     4.377      0       126\n",
       "2        3 2017-03-21  transport      1740    14.627      0         0\n",
       "3        1 2017-03-22    walking      1725     2.035   2814       128\n",
       "4        2 2017-03-22  transport      4590    32.249      0         0\n",
       "5        1 2017-03-23    walking      1476     1.537   2584        97\n",
       "6        2 2017-03-23    cycling      2727     7.744      0       229\n",
       "7        1 2017-03-24    walking      1861     1.633   2892       103\n",
       "8        2 2017-03-24    cycling      1020     3.937      0       112\n",
       "9        3 2017-03-24  transport      2731    15.763      0         0"
      ]
     },
     "execution_count": 71,
     "metadata": {},
     "output_type": "execute_result"
    }
   ],
   "source": [
    "# Places df\n",
    "df_summary = pd.DataFrame()\n",
    "for file_name in csv_files_summary:\n",
    "    df_tmp = pd.read_csv(path_to_summary+file_name)\n",
    "    df_summary = pd.concat([df_summary, df_tmp])\n",
    "    \n",
    "# Drop group column\n",
    "df_summary = df_summary.drop('Group',axis = 1).reset_index() \n",
    "    \n",
    "# Change str and end time to datetime type\n",
    "df_summary['Date'] = df_summary['Date'].apply(lambda x: yearFixer(x))\n",
    "df_summary['Date'] = df_summary['Date'].apply(lambda x: dateConverter(x))\n",
    "\n",
    "# Rename index column to iter_no like STRAVA\n",
    "df_summary.rename(columns={'index': 'iter_no'}, inplace=True)\n",
    "df_summary['iter_no'] = df_summary['iter_no'].apply(lambda x: iterNo(x))\n",
    "\n",
    "df_summary.head(10)"
   ]
  },
  {
   "cell_type": "markdown",
   "metadata": {},
   "source": [
    "#### Cycling Distance per day"
   ]
  },
  {
   "cell_type": "code",
   "execution_count": 96,
   "metadata": {
    "collapsed": false
   },
   "outputs": [],
   "source": [
    "# List the number of cycling meters per day \n",
    "cycling_df = df_summary[df_summary['Activity']=='cycling'].groupby('Date').sum(\n",
    ").reset_index().sort_values(by='Date', ascending=1)\n",
    "\n",
    "# Drop unesessary columns\n",
    "cycling_df = cycling_df.filter(items=['Date', 'Distance','Duration'])\n",
    "\n",
    "# Change column name\n",
    "cycling_df.rename(columns={'Distance': 'ttl_cyc_km','Duration' : 'ttl_cyc_seconds'}, inplace=True)\n",
    "\n",
    "# Create column with converted seconds to hours:minutes:seconds format (string)\n",
    "cycling_df['ttl_cyc_duration'] = cycling_df['ttl_cyc_seconds'].apply(lambda x: secToHours(x))\n",
    "\n",
    "# Create a new column named avg_speed \n",
    "cycling_df['avg_day_speed']= cycling_df[['ttl_cyc_km','ttl_cyc_seconds']].apply(lambda x: avgSpeedConverter(*x), axis=1) "
   ]
  },
  {
   "cell_type": "code",
   "execution_count": 97,
   "metadata": {
    "collapsed": false
   },
   "outputs": [
    {
     "data": {
      "text/html": [
       "<div>\n",
       "<table border=\"1\" class=\"dataframe\">\n",
       "  <thead>\n",
       "    <tr style=\"text-align: right;\">\n",
       "      <th></th>\n",
       "      <th>Date</th>\n",
       "      <th>ttl_cyc_km</th>\n",
       "      <th>ttl_cyc_seconds</th>\n",
       "      <th>ttl_cyc_duration</th>\n",
       "      <th>avg_day_speed</th>\n",
       "    </tr>\n",
       "  </thead>\n",
       "  <tbody>\n",
       "    <tr>\n",
       "      <th>0</th>\n",
       "      <td>2017-03-21</td>\n",
       "      <td>4.377</td>\n",
       "      <td>1263</td>\n",
       "      <td>00:21:03</td>\n",
       "      <td>12.476010</td>\n",
       "    </tr>\n",
       "    <tr>\n",
       "      <th>1</th>\n",
       "      <td>2017-03-23</td>\n",
       "      <td>7.744</td>\n",
       "      <td>2727</td>\n",
       "      <td>00:45:27</td>\n",
       "      <td>10.223102</td>\n",
       "    </tr>\n",
       "    <tr>\n",
       "      <th>2</th>\n",
       "      <td>2017-03-24</td>\n",
       "      <td>3.937</td>\n",
       "      <td>1020</td>\n",
       "      <td>00:17:00</td>\n",
       "      <td>13.895294</td>\n",
       "    </tr>\n",
       "    <tr>\n",
       "      <th>3</th>\n",
       "      <td>2017-03-25</td>\n",
       "      <td>1.885</td>\n",
       "      <td>468</td>\n",
       "      <td>00:07:48</td>\n",
       "      <td>14.500000</td>\n",
       "    </tr>\n",
       "    <tr>\n",
       "      <th>4</th>\n",
       "      <td>2017-03-26</td>\n",
       "      <td>6.744</td>\n",
       "      <td>1460</td>\n",
       "      <td>00:24:20</td>\n",
       "      <td>16.629041</td>\n",
       "    </tr>\n",
       "    <tr>\n",
       "      <th>5</th>\n",
       "      <td>2017-03-27</td>\n",
       "      <td>3.916</td>\n",
       "      <td>1217</td>\n",
       "      <td>00:20:17</td>\n",
       "      <td>11.583895</td>\n",
       "    </tr>\n",
       "    <tr>\n",
       "      <th>6</th>\n",
       "      <td>2017-03-28</td>\n",
       "      <td>2.197</td>\n",
       "      <td>673</td>\n",
       "      <td>00:11:13</td>\n",
       "      <td>11.752155</td>\n",
       "    </tr>\n",
       "    <tr>\n",
       "      <th>7</th>\n",
       "      <td>2017-03-29</td>\n",
       "      <td>3.924</td>\n",
       "      <td>1423</td>\n",
       "      <td>00:23:43</td>\n",
       "      <td>9.927196</td>\n",
       "    </tr>\n",
       "    <tr>\n",
       "      <th>8</th>\n",
       "      <td>2017-03-30</td>\n",
       "      <td>2.105</td>\n",
       "      <td>629</td>\n",
       "      <td>00:10:29</td>\n",
       "      <td>12.047695</td>\n",
       "    </tr>\n",
       "    <tr>\n",
       "      <th>9</th>\n",
       "      <td>2017-04-03</td>\n",
       "      <td>4.054</td>\n",
       "      <td>1433</td>\n",
       "      <td>00:23:53</td>\n",
       "      <td>10.184508</td>\n",
       "    </tr>\n",
       "  </tbody>\n",
       "</table>\n",
       "</div>"
      ],
      "text/plain": [
       "        Date  ttl_cyc_km  ttl_cyc_seconds ttl_cyc_duration  avg_day_speed\n",
       "0 2017-03-21       4.377             1263         00:21:03      12.476010\n",
       "1 2017-03-23       7.744             2727         00:45:27      10.223102\n",
       "2 2017-03-24       3.937             1020         00:17:00      13.895294\n",
       "3 2017-03-25       1.885              468         00:07:48      14.500000\n",
       "4 2017-03-26       6.744             1460         00:24:20      16.629041\n",
       "5 2017-03-27       3.916             1217         00:20:17      11.583895\n",
       "6 2017-03-28       2.197              673         00:11:13      11.752155\n",
       "7 2017-03-29       3.924             1423         00:23:43       9.927196\n",
       "8 2017-03-30       2.105              629         00:10:29      12.047695\n",
       "9 2017-04-03       4.054             1433         00:23:53      10.184508"
      ]
     },
     "execution_count": 97,
     "metadata": {},
     "output_type": "execute_result"
    }
   ],
   "source": [
    "cycling_df.head(10)"
   ]
  },
  {
   "cell_type": "code",
   "execution_count": 105,
   "metadata": {
    "collapsed": false
   },
   "outputs": [
    {
     "name": "stdout",
     "output_type": "stream",
     "text": [
      "Total cycling distance of the whole trip: \t302.17 km \n",
      "Total time cycled: \t\t\t\t18:14:10 h|m|s\n"
     ]
    }
   ],
   "source": [
    "# TTL\n",
    "print 'Total cycling distance of the whole trip: \\t%.2f km \\nTotal time cycled: \\t\\t\\t\\t%s h|m|s' % (sum(\n",
    "    cycling_df['ttl_cyc_km']),secToHours(sum(cycling_df['ttl_cyc_seconds'])))"
   ]
  },
  {
   "cell_type": "markdown",
   "metadata": {},
   "source": [
    "#### Walking Distance and steps per day\n"
   ]
  },
  {
   "cell_type": "code",
   "execution_count": 31,
   "metadata": {
    "collapsed": true
   },
   "outputs": [],
   "source": [
    "# List the number of walking meters per day \n",
    "walking_df = df_summary[df_summary['Activity']=='walking'].groupby('Date').sum(\n",
    ").reset_index().sort_values(by='Date', ascending=1)\n",
    "\n",
    "# Drop unesessary columns\n",
    "walking_df = walking_df.filter(items=['Date', 'Distance', 'Steps'])\n",
    "\n",
    "# Change column name\n",
    "walking_df.rename(columns={'Distance': 'ttl_wal_distance', 'Steps': 'ttl_steps'}, inplace=True)"
   ]
  },
  {
   "cell_type": "code",
   "execution_count": 32,
   "metadata": {
    "collapsed": false
   },
   "outputs": [
    {
     "data": {
      "text/html": [
       "<div>\n",
       "<table border=\"1\" class=\"dataframe\">\n",
       "  <thead>\n",
       "    <tr style=\"text-align: right;\">\n",
       "      <th></th>\n",
       "      <th>Date</th>\n",
       "      <th>ttl_wal_distance</th>\n",
       "      <th>ttl_steps</th>\n",
       "    </tr>\n",
       "  </thead>\n",
       "  <tbody>\n",
       "    <tr>\n",
       "      <th>0</th>\n",
       "      <td>2017-03-21</td>\n",
       "      <td>0.263</td>\n",
       "      <td>527</td>\n",
       "    </tr>\n",
       "    <tr>\n",
       "      <th>1</th>\n",
       "      <td>2017-03-22</td>\n",
       "      <td>2.035</td>\n",
       "      <td>2814</td>\n",
       "    </tr>\n",
       "    <tr>\n",
       "      <th>2</th>\n",
       "      <td>2017-03-23</td>\n",
       "      <td>1.537</td>\n",
       "      <td>2584</td>\n",
       "    </tr>\n",
       "    <tr>\n",
       "      <th>3</th>\n",
       "      <td>2017-03-24</td>\n",
       "      <td>1.633</td>\n",
       "      <td>2892</td>\n",
       "    </tr>\n",
       "    <tr>\n",
       "      <th>4</th>\n",
       "      <td>2017-03-25</td>\n",
       "      <td>1.049</td>\n",
       "      <td>1584</td>\n",
       "    </tr>\n",
       "  </tbody>\n",
       "</table>\n",
       "</div>"
      ],
      "text/plain": [
       "        Date  ttl_wal_distance  ttl_steps\n",
       "0 2017-03-21             0.263        527\n",
       "1 2017-03-22             2.035       2814\n",
       "2 2017-03-23             1.537       2584\n",
       "3 2017-03-24             1.633       2892\n",
       "4 2017-03-25             1.049       1584"
      ]
     },
     "execution_count": 32,
     "metadata": {},
     "output_type": "execute_result"
    }
   ],
   "source": [
    "walking_df.head()"
   ]
  },
  {
   "cell_type": "code",
   "execution_count": 58,
   "metadata": {
    "collapsed": false
   },
   "outputs": [
    {
     "name": "stdout",
     "output_type": "stream",
     "text": [
      "Total walking distance covered during the trip: 164.77 km \n",
      "Total steps covered during the trip: \t\t241391 steps\n"
     ]
    }
   ],
   "source": [
    "# TTL\n",
    "print 'Total walking distance covered during the trip: %.2f km \\nTotal steps covered during the trip: \\t\\t%d steps' % (\n",
    "    sum(walking_df['ttl_wal_distance']),sum(walking_df['ttl_steps']))"
   ]
  },
  {
   "cell_type": "markdown",
   "metadata": {},
   "source": [
    "#### Calories burnt per day\n"
   ]
  },
  {
   "cell_type": "code",
   "execution_count": 60,
   "metadata": {
    "collapsed": true
   },
   "outputs": [],
   "source": [
    "# List the number of calories burnt per day \n",
    "calories_df = df_summary.groupby('Date').sum(\n",
    ").reset_index().sort_values(by='Date', ascending=1)\n",
    "\n",
    "# Drop unesessary columns\n",
    "calories_df = calories_df.filter(items=['Date', 'Calories'])\n",
    "\n",
    "# Change column name\n",
    "calories_df.rename(columns={'Calories': 'ttl_cal_burnt'}, inplace=True)\n"
   ]
  },
  {
   "cell_type": "code",
   "execution_count": 61,
   "metadata": {
    "collapsed": false
   },
   "outputs": [
    {
     "data": {
      "text/html": [
       "<div>\n",
       "<table border=\"1\" class=\"dataframe\">\n",
       "  <thead>\n",
       "    <tr style=\"text-align: right;\">\n",
       "      <th></th>\n",
       "      <th>Date</th>\n",
       "      <th>ttl_cal_burnt</th>\n",
       "    </tr>\n",
       "  </thead>\n",
       "  <tbody>\n",
       "    <tr>\n",
       "      <th>0</th>\n",
       "      <td>2017-03-21</td>\n",
       "      <td>143</td>\n",
       "    </tr>\n",
       "    <tr>\n",
       "      <th>1</th>\n",
       "      <td>2017-03-22</td>\n",
       "      <td>128</td>\n",
       "    </tr>\n",
       "    <tr>\n",
       "      <th>2</th>\n",
       "      <td>2017-03-23</td>\n",
       "      <td>326</td>\n",
       "    </tr>\n",
       "    <tr>\n",
       "      <th>3</th>\n",
       "      <td>2017-03-24</td>\n",
       "      <td>215</td>\n",
       "    </tr>\n",
       "    <tr>\n",
       "      <th>4</th>\n",
       "      <td>2017-03-25</td>\n",
       "      <td>120</td>\n",
       "    </tr>\n",
       "  </tbody>\n",
       "</table>\n",
       "</div>"
      ],
      "text/plain": [
       "        Date  ttl_cal_burnt\n",
       "0 2017-03-21            143\n",
       "1 2017-03-22            128\n",
       "2 2017-03-23            326\n",
       "3 2017-03-24            215\n",
       "4 2017-03-25            120"
      ]
     },
     "execution_count": 61,
     "metadata": {},
     "output_type": "execute_result"
    }
   ],
   "source": [
    "calories_df.head()"
   ]
  },
  {
   "cell_type": "code",
   "execution_count": 62,
   "metadata": {
    "collapsed": false
   },
   "outputs": [
    {
     "name": "stdout",
     "output_type": "stream",
     "text": [
      "Total calories burnt during the trip: 22777 cal\n"
     ]
    }
   ],
   "source": [
    "# TTL\n",
    "print 'Total calories burnt during the trip: %d cal' % sum(calories_df['ttl_cal_burnt'])"
   ]
  },
  {
   "cell_type": "code",
   "execution_count": null,
   "metadata": {
    "collapsed": true
   },
   "outputs": [],
   "source": []
  }
 ],
 "metadata": {
  "hide_input": false,
  "kernelspec": {
   "display_name": "Python 2",
   "language": "python",
   "name": "python2"
  },
  "language_info": {
   "codemirror_mode": {
    "name": "ipython",
    "version": 2
   },
   "file_extension": ".py",
   "mimetype": "text/x-python",
   "name": "python",
   "nbconvert_exporter": "python",
   "pygments_lexer": "ipython2",
   "version": "2.7.12"
  }
 },
 "nbformat": 4,
 "nbformat_minor": 1
}
