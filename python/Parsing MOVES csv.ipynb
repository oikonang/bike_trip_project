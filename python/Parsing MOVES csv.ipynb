{
 "cells": [
  {
   "cell_type": "markdown",
   "metadata": {},
   "source": [
    "## Load Libraries"
   ]
  },
  {
   "cell_type": "code",
   "execution_count": 1,
   "metadata": {
    "collapsed": true
   },
   "outputs": [],
   "source": [
    "import pandas as pd\n",
    "import numpy as np\n",
    "from pandas import Timestamp\n",
    "import os\n",
    "from datetime import datetime, timedelta"
   ]
  },
  {
   "cell_type": "code",
   "execution_count": 2,
   "metadata": {
    "collapsed": false
   },
   "outputs": [],
   "source": [
    "# Read the directories with the data and save file_names in two list\n",
    "path_to_places = '../data/moves/moves_export/csv/daily/places/'\n",
    "path_to_summary = '../data/moves/moves_export/csv/daily/summary/'\n",
    "\n",
    "csv_files_places = [single_csv for single_csv in os.listdir(path_to_places) if single_csv.endswith('.csv')]\n",
    "csv_files_summary = [single_csv for single_csv in os.listdir(path_to_summary) if single_csv.endswith('.csv')]"
   ]
  },
  {
   "cell_type": "code",
   "execution_count": 3,
   "metadata": {
    "collapsed": false,
    "scrolled": true
   },
   "outputs": [
    {
     "name": "stdout",
     "output_type": "stream",
     "text": [
      "['places_20170321.csv', 'places_20170322.csv', 'places_20170323.csv', 'places_20170324.csv', 'places_20170325.csv']\n",
      "['summary_20170321.csv', 'summary_20170322.csv', 'summary_20170323.csv', 'summary_20170324.csv', 'summary_20170325.csv']\n"
     ]
    }
   ],
   "source": [
    "# Check if filenames are parsed correctly\n",
    "print csv_files_places[:5]\n",
    "print csv_files_summary[:5]"
   ]
  },
  {
   "cell_type": "markdown",
   "metadata": {},
   "source": [
    "## Usefull Functions"
   ]
  },
  {
   "cell_type": "code",
   "execution_count": 4,
   "metadata": {
    "collapsed": false
   },
   "outputs": [],
   "source": [
    "# Adds a number to index\n",
    "def iterNo(s):\n",
    "    return s + 1"
   ]
  },
  {
   "cell_type": "code",
   "execution_count": 5,
   "metadata": {
    "collapsed": true
   },
   "outputs": [],
   "source": [
    "# Fix year to Date column\n",
    "def yearFixer(s):\n",
    "    main_part = s[:-2]\n",
    "    year_before = s.split('/')[2]\n",
    "    year_after = str(20) + year_before\n",
    "    return main_part+year_after"
   ]
  },
  {
   "cell_type": "code",
   "execution_count": 6,
   "metadata": {
    "collapsed": true
   },
   "outputs": [],
   "source": [
    "# Create a good format for the Date column\n",
    "def dateConverter(s):\n",
    "    # Set date formats\n",
    "    time_format = \"%d/%m/%Y\"\n",
    "\n",
    "    # Convert from str to datetime\n",
    "    converted = datetime.strptime(s,time_format)\n",
    "    \n",
    "    return converted"
   ]
  },
  {
   "cell_type": "markdown",
   "metadata": {},
   "source": [
    "## Create a single CSV for each segment"
   ]
  },
  {
   "cell_type": "markdown",
   "metadata": {},
   "source": [
    "### Places"
   ]
  },
  {
   "cell_type": "code",
   "execution_count": 7,
   "metadata": {
    "collapsed": false
   },
   "outputs": [],
   "source": [
    "# Places df\n",
    "df_places = pd.DataFrame()\n",
    "for file_name in csv_files_places:\n",
    "    df_tmp = pd.read_csv(path_to_places+file_name)\n",
    "    df_places = pd.concat([df_places, df_tmp])\n",
    "\n",
    "# Drop last two columns\n",
    "df_places = df_places.drop(['Category', 'Link'],axis = 1).reset_index()   \n",
    "    \n",
    "# Change str and end time to datetime type\n",
    "df_places['Start'] = pd.to_datetime(df_places['Start']) \n",
    "df_places['End'] = pd.to_datetime(df_places['End'])\n",
    "df_places['Date'] = df_places['Date'].apply(lambda x: yearFixer(x))\n",
    "df_places['Date'] = df_places['Date'].apply(lambda x: dateConverter(x))\n",
    "\n",
    "# Rename index column to iter_no like STRAVA\n",
    "df_places.rename(columns={'index': 'iter_no'}, inplace=True)\n",
    "df_places['iter_no'] = df_places['iter_no'].apply(lambda x: iterNo(x))\n",
    "\n",
    "# Create day_no like STRAVA\n",
    "days = list(set(df_places['Date']))\n",
    "days.sort()\n",
    "day_no = list()\n",
    "for index,day in enumerate(days):\n",
    "    for dfday in df_places['Date']:\n",
    "        if dfday == day:\n",
    "            day_no.append(index+1)\n",
    "\n",
    "df_places['day_no'] = pd.Series(day_no).values"
   ]
  },
  {
   "cell_type": "code",
   "execution_count": 8,
   "metadata": {
    "collapsed": false
   },
   "outputs": [
    {
     "data": {
      "text/html": [
       "<div>\n",
       "<table border=\"1\" class=\"dataframe\">\n",
       "  <thead>\n",
       "    <tr style=\"text-align: right;\">\n",
       "      <th></th>\n",
       "      <th>iter_no</th>\n",
       "      <th>Date</th>\n",
       "      <th>Name</th>\n",
       "      <th>Start</th>\n",
       "      <th>End</th>\n",
       "      <th>Duration</th>\n",
       "      <th>Latitude</th>\n",
       "      <th>Longitude</th>\n",
       "      <th>day_no</th>\n",
       "    </tr>\n",
       "  </thead>\n",
       "  <tbody>\n",
       "    <tr>\n",
       "      <th>0</th>\n",
       "      <td>1</td>\n",
       "      <td>2017-03-21</td>\n",
       "      <td>DTU Bibliotek</td>\n",
       "      <td>2017-03-21 13:02:45</td>\n",
       "      <td>2017-03-21 16:16:43</td>\n",
       "      <td>11638</td>\n",
       "      <td>55.786990</td>\n",
       "      <td>12.523290</td>\n",
       "      <td>1</td>\n",
       "    </tr>\n",
       "    <tr>\n",
       "      <th>1</th>\n",
       "      <td>2</td>\n",
       "      <td>2017-03-21</td>\n",
       "      <td>Lyngby Svømmehal</td>\n",
       "      <td>2017-03-21 16:23:42</td>\n",
       "      <td>2017-03-21 17:42:07</td>\n",
       "      <td>4705</td>\n",
       "      <td>55.781602</td>\n",
       "      <td>12.507931</td>\n",
       "      <td>1</td>\n",
       "    </tr>\n",
       "    <tr>\n",
       "      <th>2</th>\n",
       "      <td>3</td>\n",
       "      <td>2017-03-21</td>\n",
       "      <td>Place in Kongens Lyngby</td>\n",
       "      <td>2017-03-21 17:49:24</td>\n",
       "      <td>2017-03-21 18:21:05</td>\n",
       "      <td>1901</td>\n",
       "      <td>55.786990</td>\n",
       "      <td>12.523290</td>\n",
       "      <td>1</td>\n",
       "    </tr>\n",
       "    <tr>\n",
       "      <th>3</th>\n",
       "      <td>4</td>\n",
       "      <td>2017-03-21</td>\n",
       "      <td>Place in Kongens Lyngby</td>\n",
       "      <td>2017-03-21 18:21:05</td>\n",
       "      <td>2017-03-21 18:31:17</td>\n",
       "      <td>612</td>\n",
       "      <td>55.787481</td>\n",
       "      <td>12.526896</td>\n",
       "      <td>1</td>\n",
       "    </tr>\n",
       "    <tr>\n",
       "      <th>4</th>\n",
       "      <td>5</td>\n",
       "      <td>2017-03-21</td>\n",
       "      <td>Home</td>\n",
       "      <td>2017-03-21 19:07:06</td>\n",
       "      <td>2017-03-21 23:00:00</td>\n",
       "      <td>13974</td>\n",
       "      <td>55.674390</td>\n",
       "      <td>12.591820</td>\n",
       "      <td>1</td>\n",
       "    </tr>\n",
       "    <tr>\n",
       "      <th>5</th>\n",
       "      <td>1</td>\n",
       "      <td>2017-03-22</td>\n",
       "      <td>Home</td>\n",
       "      <td>2017-03-21 23:00:00</td>\n",
       "      <td>2017-03-22 07:42:31</td>\n",
       "      <td>31351</td>\n",
       "      <td>55.674390</td>\n",
       "      <td>12.591820</td>\n",
       "      <td>2</td>\n",
       "    </tr>\n",
       "    <tr>\n",
       "      <th>6</th>\n",
       "      <td>2</td>\n",
       "      <td>2017-03-22</td>\n",
       "      <td>Dtu 324</td>\n",
       "      <td>2017-03-22 08:29:52</td>\n",
       "      <td>2017-03-22 20:07:48</td>\n",
       "      <td>41876</td>\n",
       "      <td>55.783588</td>\n",
       "      <td>12.518219</td>\n",
       "      <td>2</td>\n",
       "    </tr>\n",
       "    <tr>\n",
       "      <th>7</th>\n",
       "      <td>3</td>\n",
       "      <td>2017-03-22</td>\n",
       "      <td>Place in Kongens Lyngby</td>\n",
       "      <td>2017-03-22 20:20:32</td>\n",
       "      <td>2017-03-22 20:30:49</td>\n",
       "      <td>617</td>\n",
       "      <td>55.786867</td>\n",
       "      <td>12.528193</td>\n",
       "      <td>2</td>\n",
       "    </tr>\n",
       "    <tr>\n",
       "      <th>8</th>\n",
       "      <td>4</td>\n",
       "      <td>2017-03-22</td>\n",
       "      <td>Place in Christianshavn, København</td>\n",
       "      <td>2017-03-22 21:08:28</td>\n",
       "      <td>2017-03-22 23:00:00</td>\n",
       "      <td>6692</td>\n",
       "      <td>55.674390</td>\n",
       "      <td>12.591820</td>\n",
       "      <td>2</td>\n",
       "    </tr>\n",
       "    <tr>\n",
       "      <th>9</th>\n",
       "      <td>1</td>\n",
       "      <td>2017-03-23</td>\n",
       "      <td>Place in Christianshavn, København</td>\n",
       "      <td>2017-03-22 23:00:00</td>\n",
       "      <td>2017-03-23 07:12:15</td>\n",
       "      <td>29535</td>\n",
       "      <td>55.674390</td>\n",
       "      <td>12.591820</td>\n",
       "      <td>3</td>\n",
       "    </tr>\n",
       "  </tbody>\n",
       "</table>\n",
       "</div>"
      ],
      "text/plain": [
       "   iter_no       Date                                Name               Start  \\\n",
       "0        1 2017-03-21                       DTU Bibliotek 2017-03-21 13:02:45   \n",
       "1        2 2017-03-21                    Lyngby Svømmehal 2017-03-21 16:23:42   \n",
       "2        3 2017-03-21             Place in Kongens Lyngby 2017-03-21 17:49:24   \n",
       "3        4 2017-03-21             Place in Kongens Lyngby 2017-03-21 18:21:05   \n",
       "4        5 2017-03-21                                Home 2017-03-21 19:07:06   \n",
       "5        1 2017-03-22                                Home 2017-03-21 23:00:00   \n",
       "6        2 2017-03-22                             Dtu 324 2017-03-22 08:29:52   \n",
       "7        3 2017-03-22             Place in Kongens Lyngby 2017-03-22 20:20:32   \n",
       "8        4 2017-03-22  Place in Christianshavn, København 2017-03-22 21:08:28   \n",
       "9        1 2017-03-23  Place in Christianshavn, København 2017-03-22 23:00:00   \n",
       "\n",
       "                  End  Duration   Latitude  Longitude  day_no  \n",
       "0 2017-03-21 16:16:43     11638  55.786990  12.523290       1  \n",
       "1 2017-03-21 17:42:07      4705  55.781602  12.507931       1  \n",
       "2 2017-03-21 18:21:05      1901  55.786990  12.523290       1  \n",
       "3 2017-03-21 18:31:17       612  55.787481  12.526896       1  \n",
       "4 2017-03-21 23:00:00     13974  55.674390  12.591820       1  \n",
       "5 2017-03-22 07:42:31     31351  55.674390  12.591820       2  \n",
       "6 2017-03-22 20:07:48     41876  55.783588  12.518219       2  \n",
       "7 2017-03-22 20:30:49       617  55.786867  12.528193       2  \n",
       "8 2017-03-22 23:00:00      6692  55.674390  12.591820       2  \n",
       "9 2017-03-23 07:12:15     29535  55.674390  12.591820       3  "
      ]
     },
     "execution_count": 8,
     "metadata": {},
     "output_type": "execute_result"
    }
   ],
   "source": [
    "# Check if columns are correct\n",
    "df_places.head(10)"
   ]
  },
  {
   "cell_type": "markdown",
   "metadata": {},
   "source": [
    "### Summary"
   ]
  },
  {
   "cell_type": "code",
   "execution_count": null,
   "metadata": {
    "collapsed": true
   },
   "outputs": [],
   "source": []
  }
 ],
 "metadata": {
  "hide_input": false,
  "kernelspec": {
   "display_name": "Python 2",
   "language": "python",
   "name": "python2"
  },
  "language_info": {
   "codemirror_mode": {
    "name": "ipython",
    "version": 2
   },
   "file_extension": ".py",
   "mimetype": "text/x-python",
   "name": "python",
   "nbconvert_exporter": "python",
   "pygments_lexer": "ipython2",
   "version": "2.7.12"
  }
 },
 "nbformat": 4,
 "nbformat_minor": 1
}
