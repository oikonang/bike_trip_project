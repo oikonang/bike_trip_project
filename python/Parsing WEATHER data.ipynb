{
 "cells": [
  {
   "cell_type": "markdown",
   "metadata": {
    "collapsed": true
   },
   "source": [
    "## Load Libraries"
   ]
  },
  {
   "cell_type": "code",
   "execution_count": 1,
   "metadata": {
    "collapsed": true
   },
   "outputs": [],
   "source": [
    "import pandas as pd\n",
    "import numpy as np\n",
    "from pandas import Timestamp\n",
    "import os\n",
    "from datetime import datetime, timedelta"
   ]
  },
  {
   "cell_type": "markdown",
   "metadata": {},
   "source": [
    "## Read the JSON files from directory"
   ]
  },
  {
   "cell_type": "code",
   "execution_count": 2,
   "metadata": {
    "collapsed": false
   },
   "outputs": [],
   "source": [
    "# Read the directories with the data and save file_names in two list\n",
    "path_to_weather = 'python_data/weather_data/'\n",
    "\n",
    "json_files_weather = [single_json for single_json in os.listdir(path_to_weather) if single_json.endswith('.json')]"
   ]
  },
  {
   "cell_type": "code",
   "execution_count": 3,
   "metadata": {
    "collapsed": false
   },
   "outputs": [
    {
     "data": {
      "text/plain": [
       "['Weather_Data_2017_07_05_08_45_59.json',\n",
       " 'Weather_Data_2017_07_05_11_18_10.json',\n",
       " 'Weather_Data_2017_07_05_13_27_30.json',\n",
       " 'Weather_Data_2017_07_05_17_11_14.json',\n",
       " 'Weather_Data_2017_07_05_19_43_32.json']"
      ]
     },
     "execution_count": 3,
     "metadata": {},
     "output_type": "execute_result"
    }
   ],
   "source": [
    "json_files_weather[:5]"
   ]
  },
  {
   "cell_type": "code",
   "execution_count": 16,
   "metadata": {
    "collapsed": false
   },
   "outputs": [
    {
     "data": {
      "text/plain": [
       "{u'base': u'stations',\n",
       " u'clouds': {u'all': 76},\n",
       " u'cod': 200,\n",
       " u'coord': {u'lat': 56.38, u'lon': 24.64},\n",
       " u'dt': 1499613613,\n",
       " u'id': 600438,\n",
       " u'main': {u'grnd_level': 1018.46,\n",
       "  u'humidity': 87,\n",
       "  u'pressure': 1018.46,\n",
       "  u'sea_level': 1024.73,\n",
       "  u'temp': 292.488,\n",
       "  u'temp_max': 292.488,\n",
       "  u'temp_min': 292.488},\n",
       " u'name': u'Birzai',\n",
       " u'sys': {u'country': u'LT',\n",
       "  u'message': 0.0028,\n",
       "  u'sunrise': 1499564779,\n",
       "  u'sunset': 1499627185},\n",
       " u'weather': [{u'description': u'broken clouds',\n",
       "   u'icon': u'04d',\n",
       "   u'id': 803,\n",
       "   u'main': u'Clouds'}],\n",
       " u'wind': {u'deg': 255.51, u'speed': 2.12}}"
      ]
     },
     "execution_count": 16,
     "metadata": {},
     "output_type": "execute_result"
    }
   ],
   "source": [
    "#Check a random json to see how it looks like\n",
    "with open(path_to_weather+json_files_weather[18]) as json_data:\n",
    "    d = json.load(json_data)\n",
    "d"
   ]
  },
  {
   "cell_type": "code",
   "execution_count": 5,
   "metadata": {
    "collapsed": false
   },
   "outputs": [
    {
     "data": {
      "text/plain": [
       "u'04d'"
      ]
     },
     "execution_count": 5,
     "metadata": {},
     "output_type": "execute_result"
    }
   ],
   "source": [
    "d['weather'][0]['icon']"
   ]
  },
  {
   "cell_type": "markdown",
   "metadata": {},
   "source": [
    "## Useful Functions"
   ]
  },
  {
   "cell_type": "code",
   "execution_count": 6,
   "metadata": {
    "collapsed": true
   },
   "outputs": [],
   "source": [
    "# Create a function that gets the date from filename title\n",
    "def getDate(s):\n",
    "    first_split = s.split('_')[2]\n",
    "    second_split = s.split('_')[3]\n",
    "    third_split = s.split('_')[4]\n",
    "    return first_split + '-' + second_split + '-' + third_split"
   ]
  },
  {
   "cell_type": "code",
   "execution_count": 7,
   "metadata": {
    "collapsed": true
   },
   "outputs": [],
   "source": [
    "# Create a function that gets the time from filename title\n",
    "def getTime(s):\n",
    "    first_split = s.split('_')[5]\n",
    "    second_split = s.split('_')[6]\n",
    "    third_split = s.split('_')[7][:-5]\n",
    "    return first_split + ':' + second_split + ':' + third_split"
   ]
  },
  {
   "cell_type": "code",
   "execution_count": 8,
   "metadata": {
    "collapsed": true
   },
   "outputs": [],
   "source": [
    "# Create a good format for the Date column\n",
    "def dateConverter(s):\n",
    "    # Set date formats\n",
    "    time_format = \"%Y-%m-%d\"\n",
    "\n",
    "    # Convert from str to datetime\n",
    "    converted = datetime.strptime(s,time_format)\n",
    "    \n",
    "    return converted"
   ]
  },
  {
   "cell_type": "code",
   "execution_count": 9,
   "metadata": {
    "collapsed": true
   },
   "outputs": [],
   "source": [
    "testDate = getDate(json_files_weather[0])"
   ]
  },
  {
   "cell_type": "code",
   "execution_count": 10,
   "metadata": {
    "collapsed": false
   },
   "outputs": [],
   "source": [
    "testTime = getTime(json_files_weather[0])"
   ]
  },
  {
   "cell_type": "code",
   "execution_count": 11,
   "metadata": {
    "collapsed": false
   },
   "outputs": [
    {
     "data": {
      "text/plain": [
       "'2017-07-05'"
      ]
     },
     "execution_count": 11,
     "metadata": {},
     "output_type": "execute_result"
    }
   ],
   "source": [
    "testDate"
   ]
  },
  {
   "cell_type": "code",
   "execution_count": 23,
   "metadata": {
    "collapsed": false
   },
   "outputs": [],
   "source": [
    "# Initiate a new dataframe\n",
    "df = pd.DataFrame()\n",
    "\n",
    "# Parse json weather files data\n",
    "for i,filename in enumerate(json_files_weather):\n",
    "    with open(path_to_weather+filename) as json_data:\n",
    "        d = json.load(json_data)\n",
    "        df.set_value(i,'date',dateConverter(getDate(filename)))\n",
    "        df.set_value(i,'time',getTime(filename))\n",
    "        df.set_value(i,'windSpeed',d['wind']['speed'] * 3.6)\n",
    "        # Some of the stations didn't give degree after calling the API\n",
    "        if len(d['wind'])>1:\n",
    "            df.set_value(i,'windDeg',d['wind']['deg'])\n",
    "        else:\n",
    "            df.set_value(i,'windDeg',0)\n",
    "            \n",
    "        df.set_value(i,'humidity%',d['main']['humidity'])\n",
    "        df.set_value(i,'tempC',d['main']['temp'] - 272.15)\n",
    "        df.set_value(i,'icon',d['weather'][0]['icon'])\n",
    "        df.set_value(i,'desc',d['weather'][0]['description'])\n",
    "        df.set_value(i,'lon', d['coord']['lon'])\n",
    "        df.set_value(i,'lat', d['coord']['lat'])"
   ]
  },
  {
   "cell_type": "code",
   "execution_count": 27,
   "metadata": {
    "collapsed": false
   },
   "outputs": [
    {
     "data": {
      "text/html": [
       "<div>\n",
       "<table border=\"1\" class=\"dataframe\">\n",
       "  <thead>\n",
       "    <tr style=\"text-align: right;\">\n",
       "      <th></th>\n",
       "      <th>date</th>\n",
       "      <th>time</th>\n",
       "      <th>windSpeed</th>\n",
       "      <th>windDeg</th>\n",
       "      <th>humidity%</th>\n",
       "      <th>tempC</th>\n",
       "      <th>icon</th>\n",
       "      <th>desc</th>\n",
       "      <th>lon</th>\n",
       "      <th>lat</th>\n",
       "    </tr>\n",
       "  </thead>\n",
       "  <tbody>\n",
       "    <tr>\n",
       "      <th>0</th>\n",
       "      <td>2017-07-05</td>\n",
       "      <td>08:45:59</td>\n",
       "      <td>27.72</td>\n",
       "      <td>290.0</td>\n",
       "      <td>82.0</td>\n",
       "      <td>14.0</td>\n",
       "      <td>04d</td>\n",
       "      <td>overcast clouds</td>\n",
       "      <td>24.80</td>\n",
       "      <td>59.42</td>\n",
       "    </tr>\n",
       "    <tr>\n",
       "      <th>1</th>\n",
       "      <td>2017-07-05</td>\n",
       "      <td>11:18:10</td>\n",
       "      <td>25.92</td>\n",
       "      <td>300.0</td>\n",
       "      <td>62.0</td>\n",
       "      <td>16.0</td>\n",
       "      <td>02d</td>\n",
       "      <td>few clouds</td>\n",
       "      <td>24.70</td>\n",
       "      <td>59.44</td>\n",
       "    </tr>\n",
       "    <tr>\n",
       "      <th>2</th>\n",
       "      <td>2017-07-05</td>\n",
       "      <td>13:27:30</td>\n",
       "      <td>31.32</td>\n",
       "      <td>280.0</td>\n",
       "      <td>62.0</td>\n",
       "      <td>16.0</td>\n",
       "      <td>01d</td>\n",
       "      <td>clear sky</td>\n",
       "      <td>24.62</td>\n",
       "      <td>59.44</td>\n",
       "    </tr>\n",
       "    <tr>\n",
       "      <th>3</th>\n",
       "      <td>2017-07-05</td>\n",
       "      <td>17:11:14</td>\n",
       "      <td>33.48</td>\n",
       "      <td>280.0</td>\n",
       "      <td>62.0</td>\n",
       "      <td>16.0</td>\n",
       "      <td>01d</td>\n",
       "      <td>clear sky</td>\n",
       "      <td>24.38</td>\n",
       "      <td>59.45</td>\n",
       "    </tr>\n",
       "    <tr>\n",
       "      <th>4</th>\n",
       "      <td>2017-07-05</td>\n",
       "      <td>19:43:32</td>\n",
       "      <td>31.32</td>\n",
       "      <td>280.0</td>\n",
       "      <td>58.0</td>\n",
       "      <td>15.0</td>\n",
       "      <td>01d</td>\n",
       "      <td>clear sky</td>\n",
       "      <td>24.12</td>\n",
       "      <td>59.34</td>\n",
       "    </tr>\n",
       "  </tbody>\n",
       "</table>\n",
       "</div>"
      ],
      "text/plain": [
       "        date      time  windSpeed  windDeg  humidity%  tempC icon  \\\n",
       "0 2017-07-05  08:45:59      27.72    290.0       82.0   14.0  04d   \n",
       "1 2017-07-05  11:18:10      25.92    300.0       62.0   16.0  02d   \n",
       "2 2017-07-05  13:27:30      31.32    280.0       62.0   16.0  01d   \n",
       "3 2017-07-05  17:11:14      33.48    280.0       62.0   16.0  01d   \n",
       "4 2017-07-05  19:43:32      31.32    280.0       58.0   15.0  01d   \n",
       "\n",
       "              desc    lon    lat  \n",
       "0  overcast clouds  24.80  59.42  \n",
       "1       few clouds  24.70  59.44  \n",
       "2        clear sky  24.62  59.44  \n",
       "3        clear sky  24.38  59.45  \n",
       "4        clear sky  24.12  59.34  "
      ]
     },
     "execution_count": 27,
     "metadata": {},
     "output_type": "execute_result"
    }
   ],
   "source": [
    "df[:5]"
   ]
  },
  {
   "cell_type": "markdown",
   "metadata": {},
   "source": [
    "## Add day# and iteration number on the table above."
   ]
  },
  {
   "cell_type": "code",
   "execution_count": 26,
   "metadata": {
    "collapsed": false
   },
   "outputs": [
    {
     "data": {
      "text/html": [
       "<div>\n",
       "<table border=\"1\" class=\"dataframe\">\n",
       "  <thead>\n",
       "    <tr style=\"text-align: right;\">\n",
       "      <th></th>\n",
       "      <th>date</th>\n",
       "      <th>time</th>\n",
       "      <th>day_no</th>\n",
       "      <th>iter_no</th>\n",
       "    </tr>\n",
       "  </thead>\n",
       "  <tbody>\n",
       "    <tr>\n",
       "      <th>0</th>\n",
       "      <td>2017-07-05</td>\n",
       "      <td>08:45:59</td>\n",
       "      <td>1</td>\n",
       "      <td>1</td>\n",
       "    </tr>\n",
       "    <tr>\n",
       "      <th>1</th>\n",
       "      <td>2017-07-05</td>\n",
       "      <td>11:18:10</td>\n",
       "      <td>1</td>\n",
       "      <td>2</td>\n",
       "    </tr>\n",
       "    <tr>\n",
       "      <th>2</th>\n",
       "      <td>2017-07-05</td>\n",
       "      <td>13:27:30</td>\n",
       "      <td>1</td>\n",
       "      <td>3</td>\n",
       "    </tr>\n",
       "    <tr>\n",
       "      <th>3</th>\n",
       "      <td>2017-07-05</td>\n",
       "      <td>17:11:14</td>\n",
       "      <td>1</td>\n",
       "      <td>4</td>\n",
       "    </tr>\n",
       "    <tr>\n",
       "      <th>4</th>\n",
       "      <td>2017-07-05</td>\n",
       "      <td>19:43:32</td>\n",
       "      <td>1</td>\n",
       "      <td>5</td>\n",
       "    </tr>\n",
       "  </tbody>\n",
       "</table>\n",
       "</div>"
      ],
      "text/plain": [
       "        date      time  day_no  iter_no\n",
       "0 2017-07-05  08:45:59       1        1\n",
       "1 2017-07-05  11:18:10       1        2\n",
       "2 2017-07-05  13:27:30       1        3\n",
       "3 2017-07-05  17:11:14       1        4\n",
       "4 2017-07-05  19:43:32       1        5"
      ]
     },
     "execution_count": 26,
     "metadata": {},
     "output_type": "execute_result"
    }
   ],
   "source": [
    "# Create helper dataframe with unique days\n",
    "df_helper = df.groupby(by=['date','time']).count().iloc[:,0].reset_index().filter(items=['date','time'])\n",
    "\n",
    "# Create columns for iter_no(per activity) and day_no(per day)\n",
    "days = list(set(df_helper['date']))\n",
    "days.sort()\n",
    "day_no = list()\n",
    "iter_no = list()\n",
    "for index,day in enumerate(days):\n",
    "    counter=1\n",
    "    for dfday in df_helper['date']:\n",
    "        if dfday == day:\n",
    "            iter_no.append(counter)\n",
    "            day_no.append(index+1)\n",
    "            counter+=1\n",
    "\n",
    "df_helper['day_no'] = pd.Series(day_no).values\n",
    "df_helper['iter_no'] = pd.Series(iter_no).values      \n",
    "\n",
    "df_helper[:5]"
   ]
  },
  {
   "cell_type": "code",
   "execution_count": 28,
   "metadata": {
    "collapsed": false,
    "scrolled": true
   },
   "outputs": [
    {
     "data": {
      "text/html": [
       "<div>\n",
       "<table border=\"1\" class=\"dataframe\">\n",
       "  <thead>\n",
       "    <tr style=\"text-align: right;\">\n",
       "      <th></th>\n",
       "      <th>date</th>\n",
       "      <th>time</th>\n",
       "      <th>windSpeed</th>\n",
       "      <th>windDeg</th>\n",
       "      <th>humidity%</th>\n",
       "      <th>tempC</th>\n",
       "      <th>icon</th>\n",
       "      <th>desc</th>\n",
       "      <th>lon</th>\n",
       "      <th>lat</th>\n",
       "      <th>day_no</th>\n",
       "      <th>iter_no</th>\n",
       "    </tr>\n",
       "  </thead>\n",
       "  <tbody>\n",
       "    <tr>\n",
       "      <th>0</th>\n",
       "      <td>2017-07-05</td>\n",
       "      <td>08:45:59</td>\n",
       "      <td>27.72</td>\n",
       "      <td>290.0</td>\n",
       "      <td>82.0</td>\n",
       "      <td>14.0</td>\n",
       "      <td>04d</td>\n",
       "      <td>overcast clouds</td>\n",
       "      <td>24.80</td>\n",
       "      <td>59.42</td>\n",
       "      <td>1</td>\n",
       "      <td>1</td>\n",
       "    </tr>\n",
       "    <tr>\n",
       "      <th>1</th>\n",
       "      <td>2017-07-05</td>\n",
       "      <td>11:18:10</td>\n",
       "      <td>25.92</td>\n",
       "      <td>300.0</td>\n",
       "      <td>62.0</td>\n",
       "      <td>16.0</td>\n",
       "      <td>02d</td>\n",
       "      <td>few clouds</td>\n",
       "      <td>24.70</td>\n",
       "      <td>59.44</td>\n",
       "      <td>1</td>\n",
       "      <td>2</td>\n",
       "    </tr>\n",
       "    <tr>\n",
       "      <th>2</th>\n",
       "      <td>2017-07-05</td>\n",
       "      <td>13:27:30</td>\n",
       "      <td>31.32</td>\n",
       "      <td>280.0</td>\n",
       "      <td>62.0</td>\n",
       "      <td>16.0</td>\n",
       "      <td>01d</td>\n",
       "      <td>clear sky</td>\n",
       "      <td>24.62</td>\n",
       "      <td>59.44</td>\n",
       "      <td>1</td>\n",
       "      <td>3</td>\n",
       "    </tr>\n",
       "    <tr>\n",
       "      <th>3</th>\n",
       "      <td>2017-07-05</td>\n",
       "      <td>17:11:14</td>\n",
       "      <td>33.48</td>\n",
       "      <td>280.0</td>\n",
       "      <td>62.0</td>\n",
       "      <td>16.0</td>\n",
       "      <td>01d</td>\n",
       "      <td>clear sky</td>\n",
       "      <td>24.38</td>\n",
       "      <td>59.45</td>\n",
       "      <td>1</td>\n",
       "      <td>4</td>\n",
       "    </tr>\n",
       "    <tr>\n",
       "      <th>4</th>\n",
       "      <td>2017-07-05</td>\n",
       "      <td>19:43:32</td>\n",
       "      <td>31.32</td>\n",
       "      <td>280.0</td>\n",
       "      <td>58.0</td>\n",
       "      <td>15.0</td>\n",
       "      <td>01d</td>\n",
       "      <td>clear sky</td>\n",
       "      <td>24.12</td>\n",
       "      <td>59.34</td>\n",
       "      <td>1</td>\n",
       "      <td>5</td>\n",
       "    </tr>\n",
       "  </tbody>\n",
       "</table>\n",
       "</div>"
      ],
      "text/plain": [
       "        date      time  windSpeed  windDeg  humidity%  tempC icon  \\\n",
       "0 2017-07-05  08:45:59      27.72    290.0       82.0   14.0  04d   \n",
       "1 2017-07-05  11:18:10      25.92    300.0       62.0   16.0  02d   \n",
       "2 2017-07-05  13:27:30      31.32    280.0       62.0   16.0  01d   \n",
       "3 2017-07-05  17:11:14      33.48    280.0       62.0   16.0  01d   \n",
       "4 2017-07-05  19:43:32      31.32    280.0       58.0   15.0  01d   \n",
       "\n",
       "              desc    lon    lat  day_no  iter_no  \n",
       "0  overcast clouds  24.80  59.42       1        1  \n",
       "1       few clouds  24.70  59.44       1        2  \n",
       "2        clear sky  24.62  59.44       1        3  \n",
       "3        clear sky  24.38  59.45       1        4  \n",
       "4        clear sky  24.12  59.34       1        5  "
      ]
     },
     "execution_count": 28,
     "metadata": {},
     "output_type": "execute_result"
    }
   ],
   "source": [
    "# Merge the above tables\n",
    "df = pd.merge(df,df_helper,on=['date','time'])\n",
    "\n",
    "# Check main df\n",
    "df.head()"
   ]
  },
  {
   "cell_type": "markdown",
   "metadata": {},
   "source": [
    "# Save it to .csv"
   ]
  },
  {
   "cell_type": "code",
   "execution_count": 30,
   "metadata": {
    "collapsed": false
   },
   "outputs": [],
   "source": [
    "# Save it to a csv for D3\n",
    "df.to_csv('../app/interactive_map/weather.csv', index=False)"
   ]
  }
 ],
 "metadata": {
  "hide_input": false,
  "kernelspec": {
   "display_name": "Python 2",
   "language": "python",
   "name": "python2"
  },
  "language_info": {
   "codemirror_mode": {
    "name": "ipython",
    "version": 2
   },
   "file_extension": ".py",
   "mimetype": "text/x-python",
   "name": "python",
   "nbconvert_exporter": "python",
   "pygments_lexer": "ipython2",
   "version": "2.7.12"
  }
 },
 "nbformat": 4,
 "nbformat_minor": 1
}
